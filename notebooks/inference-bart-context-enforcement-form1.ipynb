{
 "cells": [
  {
   "cell_type": "code",
   "execution_count": 1,
   "metadata": {},
   "outputs": [
    {
     "name": "stderr",
     "output_type": "stream",
     "text": [
      "/home/nlplab/anaconda3/envs/development/lib/python3.9/site-packages/tqdm/auto.py:21: TqdmWarning: IProgress not found. Please update jupyter and ipywidgets. See https://ipywidgets.readthedocs.io/en/stable/user_install.html\n",
      "  from .autonotebook import tqdm as notebook_tqdm\n",
      "Global seed set to 1376\n",
      "[nltk_data] Downloading package punkt to /home/nlplab/nltk_data...\n",
      "[nltk_data]   Package punkt is already up-to-date!\n",
      "Global seed set to 1376\n"
     ]
    },
    {
     "data": {
      "text/plain": [
       "1376"
      ]
     },
     "execution_count": 1,
     "metadata": {},
     "output_type": "execute_result"
    }
   ],
   "source": [
    "#https://github.com/amazon-science/efficient-longdoc-classification\n",
    "from functools import partial\n",
    "import nltk\n",
    "import pickle as pk\n",
    "import torch\n",
    "from context_enforcement.models.context_enforcer import compute_context_boundary\n",
    "from context_enforcement.trainers.train_bart import model_init\n",
    "from context_enforcement.data.common import create_text_tokenizer, SmartCollator\n",
    "from context_enforcement.trainers.common import get_dataset_specified_tasks\n",
    "from pytorch_lightning import seed_everything\n",
    "\n",
    "import sys\n",
    "import os\n",
    "os.environ[\"CUDA_VISIBLE_DEVICES\"] = \"0\"\n",
    "seed_everything(1376)"
   ]
  },
  {
   "cell_type": "code",
   "execution_count": null,
   "metadata": {},
   "outputs": [],
   "source": [
    "z=torch.ones((1,2),dtype=torch.long,device='cuda')\n",
    "z.device"
   ]
  },
  {
   "cell_type": "code",
   "execution_count": null,
   "metadata": {},
   "outputs": [],
   "source": [
    "configs"
   ]
  },
  {
   "cell_type": "code",
   "execution_count": 2,
   "metadata": {},
   "outputs": [],
   "source": [
    "configs= pk.load(open(\"trained-models/bart-base-context-enhance-form1/train_args.ap\",'rb'))\n",
    "context_max_len=configs.context_max_len\n",
    "context_max_len_list = [context_max_len]#,300,450]\n",
    "context_sampling_bounds=(0.1, 0.45)"
   ]
  },
  {
   "cell_type": "code",
   "execution_count": null,
   "metadata": {},
   "outputs": [],
   "source": [
    "configs.model_base"
   ]
  },
  {
   "cell_type": "code",
   "execution_count": null,
   "metadata": {},
   "outputs": [],
   "source": []
  },
  {
   "cell_type": "code",
   "execution_count": 3,
   "metadata": {},
   "outputs": [
    {
     "name": "stderr",
     "output_type": "stream",
     "text": [
      "Found cached dataset xsum (/home/nlplab/.cache/huggingface/datasets/xsum/default/1.2.0/082863bf4754ee058a5b6f6525d0cb2b18eadb62c7b370b095d1364050a52b71)\n",
      "100%|██████████| 3/3 [00:00<00:00, 853.14it/s]\n"
     ]
    }
   ],
   "source": [
    "tokenizer = create_text_tokenizer(configs.model_base)\n",
    "\n",
    "task_dataset_gen = get_dataset_specified_tasks(configs.task_type)\n",
    "\n",
    "train_dataset = None\n",
    "eval_dataset = None\n",
    "test_dataset = None\n",
    "if task_dataset_gen is not None:\n",
    "    raw_dataset = task_dataset_gen(tokenizer=tokenizer, )\n",
    "    train_dataset = raw_dataset['train']\n",
    "    eval_dataset = raw_dataset['validation']\n",
    "    test_dataset = raw_dataset['test']\n",
    "\n",
    "model_builder = model_init(\n",
    "        vocab_size=len(train_dataset.tokenizer),\n",
    "        model_base=configs.model_base,\n",
    "        context_max_len = context_max_len,\n",
    "        context_sampling_bounds = context_sampling_bounds,\n",
    "        context_max_len_list= context_max_len_list,#is_baseline=True\n",
    "    )"
   ]
  },
  {
   "cell_type": "code",
   "execution_count": null,
   "metadata": {},
   "outputs": [],
   "source": []
  },
  {
   "cell_type": "code",
   "execution_count": 4,
   "metadata": {},
   "outputs": [
    {
     "name": "stderr",
     "output_type": "stream",
     "text": [
      "Some weights of BartForContextualRecovery were not initialized from the model checkpoint at facebook/bart-base and are newly initialized: ['encoder.layers.5.context_enforcer._wlc.bias', 'encoder.layers.2.context_enforcer._wrc.bias', 'encoder.layers.5.context_enforcer._wlc.weight', 'encoder.layers.5.context_enforcer._right_mha.in_proj_weight', 'encoder.layers.4.context_enforcer._left_mha.in_proj_weight', 'encoder.layers.2.context_enforcer._wlc.weight', 'encoder.layers.5.context_enforcer._left_mha.out_proj.bias', 'encoder.layers.5.context_enforcer_layer_norm.bias', 'encoder.layers.4.context_enforcer._wrc.weight', 'encoder.layers.4.context_enforcer._right_mha.out_proj.weight', 'encoder.layers.5.context_enforcer._left_mha.in_proj_weight', 'encoder.layers.4.context_enforcer._left_mha.out_proj.weight', 'encoder.layers.4.context_enforcer._right_mha.out_proj.bias', 'encoder.layers.3.context_enforcer._wlc.weight', 'encoder.layers.3.context_enforcer._wlc.bias', 'encoder.layers.4.context_enforcer._wlc.weight', 'encoder.layers.3.context_enforcer._right_mha.in_proj_bias', 'encoder.layers.3.context_enforcer._left_mha.in_proj_weight', 'encoder.layers.2.context_enforcer._left_mha.in_proj_weight', 'encoder.layers.3.context_enforcer_layer_norm.bias', 'encoder.layers.5.context_enforcer._wrc.bias', 'encoder.layers.2.context_enforcer_layer_norm.weight', 'encoder.layers.3.context_enforcer._left_mha.out_proj.weight', 'encoder.layers.4.context_enforcer._wlc.bias', 'encoder.layers.4.context_enforcer._right_mha.in_proj_weight', 'encoder.layers.2.context_enforcer._wrc.weight', 'encoder.layers.3.context_enforcer._wrc.bias', 'encoder.layers.4.context_enforcer_layer_norm.weight', 'encoder.layers.2.context_enforcer._right_mha.in_proj_weight', 'encoder.layers.5.context_enforcer_layer_norm.weight', 'encoder.layers.2.context_enforcer._right_mha.in_proj_bias', 'encoder.layers.3.context_enforcer._left_mha.out_proj.bias', 'encoder.layers.2.context_enforcer_layer_norm.bias', 'encoder.layers.5.context_enforcer._right_mha.in_proj_bias', 'encoder.layers.3.context_enforcer_layer_norm.weight', 'encoder.layers.5.context_enforcer._left_mha.out_proj.weight', 'encoder.layers.2.context_enforcer._left_mha.in_proj_bias', 'encoder.layers.3.context_enforcer._wrc.weight', 'encoder.layers.4.context_enforcer._wrc.bias', 'encoder.layers.4.context_enforcer._right_mha.in_proj_bias', 'encoder.layers.2.context_enforcer._right_mha.out_proj.weight', 'encoder.layers.2.context_enforcer._left_mha.out_proj.weight', 'encoder.layers.2.context_enforcer._right_mha.out_proj.bias', 'encoder.layers.3.context_enforcer._right_mha.in_proj_weight', 'encoder.layers.3.context_enforcer._left_mha.in_proj_bias', 'encoder.layers.5.context_enforcer._wrc.weight', 'encoder.layers.3.context_enforcer._right_mha.out_proj.weight', 'encoder.layers.4.context_enforcer._left_mha.out_proj.bias', 'encoder.layers.2.context_enforcer._left_mha.out_proj.bias', 'encoder.layers.5.context_enforcer._right_mha.out_proj.weight', 'encoder.layers.3.context_enforcer._right_mha.out_proj.bias', 'encoder.layers.2.context_enforcer._wlc.bias', 'encoder.layers.4.context_enforcer._left_mha.in_proj_bias', 'encoder.layers.5.context_enforcer._left_mha.in_proj_bias', 'encoder.layers.5.context_enforcer._right_mha.out_proj.bias', 'encoder.layers.4.context_enforcer_layer_norm.bias']\n",
      "You should probably TRAIN this model on a down-stream task to be able to use it for predictions and inference.\n"
     ]
    }
   ],
   "source": [
    "generator = model_builder()\n",
    "train_model_path = \"trained-models/bart-base-context-enhance-form1/checkpoint-46761/pytorch_model.bin\"\n",
    "state_dict = torch.load(train_model_path)\n",
    "generator.load_state_dict(state_dict)\n",
    "device = torch.device(\"cuda\") if torch.cuda.is_available() else torch.device(\"cpu\")"
   ]
  },
  {
   "cell_type": "code",
   "execution_count": 9,
   "metadata": {},
   "outputs": [],
   "source": [
    "te1= test_dataset[693]\n",
    "b_input_ids = te1.input_ids.view(1, -1).to(device)\n",
    "b_input_mask = te1.attention_mask.view(1, -1).to(device)"
   ]
  },
  {
   "cell_type": "code",
   "execution_count": null,
   "metadata": {},
   "outputs": [],
   "source": [
    "example= {'document':\"\"\"\n",
    "           Have you been rocking \"The Rachel\" for the last twenty years? If so, then you're overdue for a trendier haircut that can make the most of your youthful face and features. \n",
    "           Check out some stylish magazines or even some celebrity gossip magazines and see what hairstyles are popular these days. \n",
    "           You don't have to go for something ultra-trendy if that's not your thing, but getting a haircut that suits you better than your old one can make you look a decade younger.\n",
    "           \"\"\"}\n",
    "te1=test_dataset._process_data(example)\n",
    "b_input_ids = te1.input_ids.view(1, -1).to(device)\n",
    "b_input_mask = te1.attention_mask.view(1, -1).to(device)"
   ]
  },
  {
   "cell_type": "code",
   "execution_count": 10,
   "metadata": {},
   "outputs": [
    {
     "data": {
      "text/plain": [
       "((214, 327), 542, 310)"
      ]
     },
     "execution_count": 10,
     "metadata": {},
     "output_type": "execute_result"
    }
   ],
   "source": [
    "#seed_everything(1376)\n",
    "boundary_sample =  (0.15, 0.65)\n",
    "seq_len = te1.input_ids[:1024].shape[0]\n",
    "\n",
    "boundary_width = int(0.21*seq_len) \n",
    "context_boundary = compute_context_boundary(seq_len,\n",
    "                                            context_sampling_bounds=boundary_sample,\n",
    "                                            context_max_len=boundary_width)\n",
    "context_boundary,seq_len,context_max_len"
   ]
  },
  {
   "cell_type": "code",
   "execution_count": 11,
   "metadata": {},
   "outputs": [
    {
     "data": {
      "text/plain": [
       "['US rapper Kanye West has told the BBC that he wants to create an apartment for his former bandmate, Kim Kardashian West.']"
      ]
     },
     "execution_count": 11,
     "metadata": {},
     "output_type": "execute_result"
    }
   ],
   "source": [
    "generator.eval()\n",
    "with torch.no_grad():\n",
    "    bb=generator.generate(input_ids=b_input_ids[:,:1024],\n",
    "                attention_mask=b_input_mask[:,:1024],\n",
    "                context_boundary=context_boundary,\n",
    "                eos_token_id=test_dataset.tokenizer.eos_token_id,\n",
    "        max_length=189,\n",
    "        early_stopping=True,\n",
    "        use_cache=True,\n",
    "        num_beams=8,\n",
    "        )\n",
    "test_dataset.tokenizer.batch_decode(bb,clean_up_tokenization_spaces=True,skip_special_tokens=True)"
   ]
  },
  {
   "cell_type": "code",
   "execution_count": null,
   "metadata": {},
   "outputs": [],
   "source": [
    "generator.eval()\n",
    "with torch.no_grad():\n",
    "    bb=generator.generate(input_ids=b_input_ids[:,:1024],\n",
    "                attention_mask=b_input_mask[:,:1024],\n",
    "                context_boundary=context_boundary,\n",
    "                eos_token_id=test_dataset.tokenizer.eos_token_id,\n",
    "        max_length=189,\n",
    "        early_stopping=True,\n",
    "        use_cache=True,\n",
    "        num_beams=8,\n",
    "        )\n",
    "test_dataset.tokenizer.batch_decode(bb,clean_up_tokenization_spaces=True,skip_special_tokens=True)"
   ]
  },
  {
   "cell_type": "code",
   "execution_count": null,
   "metadata": {},
   "outputs": [],
   "source": [
    "test_dataset.tokenizer.decode(te1.labels,clean_up_tokenization_spaces=True,skip_special_tokens=True)"
   ]
  },
  {
   "cell_type": "code",
   "execution_count": null,
   "metadata": {},
   "outputs": [],
   "source": [
    "te1.input_ids.shape"
   ]
  },
  {
   "cell_type": "code",
   "execution_count": null,
   "metadata": {},
   "outputs": [],
   "source": [
    "print(test_dataset.tokenizer.decode(te1.input_ids,clean_up_tokenization_spaces=True,skip_special_tokens=True))"
   ]
  },
  {
   "cell_type": "code",
   "execution_count": 5,
   "metadata": {},
   "outputs": [],
   "source": [
    "generator.model.context_max_len= 800\n",
    "generator.model.encoder.context_max_len= 800"
   ]
  },
  {
   "cell_type": "code",
   "execution_count": 6,
   "metadata": {},
   "outputs": [
    {
     "name": "stderr",
     "output_type": "stream",
     "text": [
      "[nltk_data] Downloading package wordnet to /home/nlplab/nltk_data...\n",
      "[nltk_data]   Package wordnet is already up-to-date!\n",
      "[nltk_data] Downloading package punkt to /home/nlplab/nltk_data...\n",
      "[nltk_data]   Package punkt is already up-to-date!\n",
      "[nltk_data] Downloading package omw-1.4 to /home/nlplab/nltk_data...\n",
      "[nltk_data]   Package omw-1.4 is already up-to-date!\n"
     ]
    }
   ],
   "source": [
    "from torch.utils.data import DataLoader,SequentialSampler\n",
    "import tqdm\n",
    "from context_enforcement.data.common import write_to_file\n",
    "import evaluate\n",
    "metrics = evaluate.combine(['bleu','meteor',\"rouge\"])\n",
    "def generate():\n",
    "    test_data_loader = DataLoader(test_dataset,batch_size=12,\n",
    "                                sampler= SequentialSampler(test_dataset),\n",
    "                                collate_fn= SmartCollator(\n",
    "                pad_token_id=train_dataset.tokenizer.pad_token_id,\n",
    "                max_len=configs.max_seq_len,\n",
    "                context_max_len=context_max_len,\n",
    "                context_sampling_bounds=context_sampling_bounds,\n",
    "            \n",
    "            ))\n",
    "\n",
    "    output_summaries =[]\n",
    "    for batch in tqdm.tqdm(test_data_loader):\n",
    "        b_input_ids = batch['input_ids'].to(device)\n",
    "        b_input_mask = batch['attention_mask'].to(device)\n",
    "        \n",
    "        seq_len = b_input_ids.shape[1]\n",
    "\n",
    "        context_boundary = compute_context_boundary(seq_len,\n",
    "                                                    context_max_len=110)\n",
    "        \n",
    "        boundary_mask =  batch.get(\"boundary\",)\n",
    "        bb=generator.generate(input_ids=b_input_ids,\n",
    "                attention_mask=b_input_mask,\n",
    "                #context_boundary=boundary_mask,\n",
    "                num_beams=10,\n",
    "                do_sample=False,\n",
    "                num_return_sequences=1,\n",
    "                max_length=140)\n",
    "        sentences = test_dataset.tokenizer.batch_decode(bb,clean_up_tokenization_spaces=True,skip_special_tokens=True)\n",
    "        output_summaries+=sentences\n",
    "    return output_summaries"
   ]
  },
  {
   "cell_type": "code",
   "execution_count": 7,
   "metadata": {},
   "outputs": [
    {
     "name": "stderr",
     "output_type": "stream",
     "text": [
      "Token indices sequence length is longer than the specified maximum sequence length for this model (1327 > 1024). Running this sequence through the model will result in indexing errors\n"
     ]
    }
   ],
   "source": [
    "targets = [tokenizer.decode(c.labels,clean_up_tokenization_spaces=True,skip_special_tokens=True) for c in test_dataset]"
   ]
  },
  {
   "cell_type": "code",
   "execution_count": 8,
   "metadata": {},
   "outputs": [],
   "source": [
    "os.makedirs(\"outputs/bart-context-enforcer-form1/\",exist_ok=True)"
   ]
  },
  {
   "cell_type": "code",
   "execution_count": 9,
   "metadata": {},
   "outputs": [
    {
     "name": "stdout",
     "output_type": "stream",
     "text": [
      "Generating for the context length: 100\n"
     ]
    },
    {
     "name": "stderr",
     "output_type": "stream",
     "text": [
      "100%|██████████| 945/945 [35:42<00:00,  2.27s/it] \n"
     ]
    },
    {
     "name": "stdout",
     "output_type": "stream",
     "text": [
      "Done\n",
      "{'bleu': 0.09830130047126297, 'precisions': [0.3909875458632629, 0.14068852488704173, 0.07098747757034322, 0.03924120881892942], 'brevity_penalty': 0.8835331176063764, 'length_ratio': 0.8898170642919001, 'translation_length': 232212, 'reference_length': 260966, 'meteor': 0.3109221279397272, 'rouge1': 0.3596219099743052, 'rouge2': 0.14852792488427635, 'rougeL': 0.29140592563192924, 'rougeLsum': 0.2913992950050863}\n",
      "Generating for the context length: 200\n"
     ]
    },
    {
     "name": "stderr",
     "output_type": "stream",
     "text": [
      "100%|██████████| 945/945 [41:39<00:00,  2.65s/it]\n"
     ]
    },
    {
     "name": "stdout",
     "output_type": "stream",
     "text": [
      "Done\n",
      "{'bleu': 0.11133628908019347, 'precisions': [0.4184407396233675, 0.160670172097324, 0.08394364283183607, 0.047861167177685675], 'brevity_penalty': 0.8684636839496218, 'length_ratio': 0.8764015235701202, 'translation_length': 228711, 'reference_length': 260966, 'meteor': 0.33337683650713795, 'rouge1': 0.38388150460310677, 'rouge2': 0.16659726704699437, 'rougeL': 0.3127130707167, 'rougeLsum': 0.3125732449092926}\n",
      "Generating for the context length: 350\n"
     ]
    },
    {
     "name": "stderr",
     "output_type": "stream",
     "text": [
      "100%|██████████| 945/945 [52:46<00:00,  3.35s/it]  \n"
     ]
    },
    {
     "name": "stdout",
     "output_type": "stream",
     "text": [
      "Done\n",
      "{'bleu': 0.1156133336327475, 'precisions': [0.42818556164129634, 0.16854438936457863, 0.08894653987808288, 0.0510762040763339], 'brevity_penalty': 0.8591805289193619, 'length_ratio': 0.8682242131158848, 'translation_length': 226577, 'reference_length': 260966, 'meteor': 0.34080915081480995, 'rouge1': 0.3918857205870998, 'rouge2': 0.1737718254189405, 'rougeL': 0.31982054386693415, 'rougeLsum': 0.31971051841869136}\n",
      "Generating for the context length: 720\n"
     ]
    },
    {
     "name": "stderr",
     "output_type": "stream",
     "text": [
      " 31%|███▏      | 297/945 [21:36<44:37,  4.13s/it]  "
     ]
    }
   ],
   "source": [
    "context_lens = [100, 200, 300, 400, 500, 650]\n",
    "outputs = {}\n",
    "results = {}\n",
    "for cl in context_lens:\n",
    "    print(f'Generating for the context length: {cl}')\n",
    "    generator.model.context_max_len = cl\n",
    "    generator.model.encoder.context_max_len = cl\n",
    "    rbase_output = generate()\n",
    "    outputs[cl] = rbase_output\n",
    "    \n",
    "    write_to_file(rbase_output[:len(test_dataset)], \n",
    "              f\"outputs/bart-crossed-context/best_base_final_{cl}\")\n",
    "    \n",
    "    scores = metrics.compute(predictions=rbase_output,references=targets)\n",
    "    print(scores)\n",
    "    \n",
    "    results[cl]= scores"
   ]
  },
  {
   "cell_type": "code",
   "execution_count": null,
   "metadata": {},
   "outputs": [],
   "source": []
  },
  {
   "cell_type": "code",
   "execution_count": null,
   "metadata": {},
   "outputs": [],
   "source": [
    "base_output = generate()"
   ]
  },
  {
   "cell_type": "code",
   "execution_count": null,
   "metadata": {},
   "outputs": [],
   "source": [
    "generator.model.context_max_len= 800\n",
    "generator.model.encoder.context_max_len= 800\n",
    "base_output8 = generate()"
   ]
  },
  {
   "cell_type": "code",
   "execution_count": null,
   "metadata": {},
   "outputs": [],
   "source": [
    "generator.model.context_max_len= 600\n",
    "generator.model.encoder.context_max_len= 600\n",
    "base_output6 = generate()"
   ]
  },
  {
   "cell_type": "code",
   "execution_count": null,
   "metadata": {},
   "outputs": [],
   "source": [
    "generator.model.context_max_len= 450\n",
    "generator.model.encoder.context_max_len= 450\n",
    "base_output45 = generate()"
   ]
  },
  {
   "cell_type": "code",
   "execution_count": null,
   "metadata": {},
   "outputs": [],
   "source": [
    "#os.makedirs(\"outputs/multi_context/\")"
   ]
  },
  {
   "cell_type": "code",
   "execution_count": null,
   "metadata": {},
   "outputs": [],
   "source": [
    "#context_enforcement/data/common.py\n",
    "\n",
    "write_to_file(base_output8[:len(test_dataset)], \n",
    "              \"outputs/multi_context/best_base_final_800\")"
   ]
  },
  {
   "cell_type": "code",
   "execution_count": null,
   "metadata": {},
   "outputs": [],
   "source": []
  },
  {
   "cell_type": "code",
   "execution_count": null,
   "metadata": {},
   "outputs": [],
   "source": [
    "targets[690],base_output[690]#,base_output_8[690],base_output_45[690]#output_summaries2[690],output_summaries[690],output_summaries6[690],output_summaries8[690]"
   ]
  },
  {
   "cell_type": "code",
   "execution_count": null,
   "metadata": {},
   "outputs": [],
   "source": []
  },
  {
   "cell_type": "code",
   "execution_count": null,
   "metadata": {},
   "outputs": [],
   "source": [
    "scores = metrics.compute(predictions=base_output8,references=targets)\n",
    "scores"
   ]
  },
  {
   "cell_type": "code",
   "execution_count": null,
   "metadata": {},
   "outputs": [],
   "source": [
    "scores45 = metrics.compute(predictions=base_output45,\n",
    "                           references=targets)\n",
    "scores45"
   ]
  },
  {
   "cell_type": "code",
   "execution_count": null,
   "metadata": {},
   "outputs": [],
   "source": [
    "{'bleu': 0.13001522827171397,\n",
    " 'precisions': [0.43264780948765,\n",
    "  0.17764752271710285,\n",
    "  0.09726789720912225,\n",
    "  0.057229256856921935],\n",
    " 'brevity_penalty': 0.90401138133862,\n",
    " 'length_ratio': 0.9083367181931746,\n",
    " 'translation_length': 237045,\n",
    " 'reference_length': 260966,\n",
    " 'meteor': 0.3623311725177827,\n",
    " 'rouge1': 0.40646161409356885,\n",
    " 'rouge2': 0.18746257090958113,\n",
    " 'rougeL': 0.3322105156464427,\n",
    " 'rougeLsum': 20.3334181119671774}"
   ]
  },
  {
   "cell_type": "code",
   "execution_count": null,
   "metadata": {},
   "outputs": [],
   "source": [
    "scores"
   ]
  },
  {
   "cell_type": "code",
   "execution_count": null,
   "metadata": {},
   "outputs": [],
   "source": [
    "scores4"
   ]
  },
  {
   "cell_type": "code",
   "execution_count": null,
   "metadata": {},
   "outputs": [],
   "source": [
    "scores5"
   ]
  },
  {
   "cell_type": "code",
   "execution_count": 5,
   "metadata": {},
   "outputs": [],
   "source": [
    "from pathlib import Path\n",
    "\n",
    "path= \"trained-models/bart-base-context-enhance-form1/\""
   ]
  },
  {
   "cell_type": "code",
   "execution_count": 8,
   "metadata": {},
   "outputs": [
    {
     "data": {
      "text/plain": [
       "[PosixPath('trained-models/bart-base-context-enhance-form1/checkpoint-46761'),\n",
       " PosixPath('trained-models/bart-base-context-enhance-form1/checkpoint-29757'),\n",
       " PosixPath('trained-models/bart-base-context-enhance-form1/checkpoint-51012')]"
      ]
     },
     "execution_count": 8,
     "metadata": {},
     "output_type": "execute_result"
    }
   ],
   "source": [
    "checkpoints=[s for s in Path(path).rglob(\"*checkpoint-*\")]"
   ]
  },
  {
   "cell_type": "code",
   "execution_count": 13,
   "metadata": {},
   "outputs": [
    {
     "data": {
      "text/plain": [
       "['trained-models', 'bart-base-context-enhance-form1', '']"
      ]
     },
     "execution_count": 13,
     "metadata": {},
     "output_type": "execute_result"
    },
    {
     "ename": "",
     "evalue": "",
     "output_type": "error",
     "traceback": [
      "\u001b[1;31mThe Kernel crashed while executing code in the the current cell or a previous cell. Please review the code in the cell(s) to identify a possible cause of the failure. Click <a href='https://aka.ms/vscodeJupyterKernelCrash'>here</a> for more info. View Jupyter <a href='command:jupyter.viewOutput'>log</a> for further details."
     ]
    }
   ],
   "source": [
    "path.strip().split('/')"
   ]
  }
 ],
 "metadata": {
  "kernelspec": {
   "display_name": "development",
   "language": "python",
   "name": "python3"
  },
  "language_info": {
   "codemirror_mode": {
    "name": "ipython",
    "version": 3
   },
   "file_extension": ".py",
   "mimetype": "text/x-python",
   "name": "python",
   "nbconvert_exporter": "python",
   "pygments_lexer": "ipython3",
   "version": "3.9.16"
  },
  "orig_nbformat": 4
 },
 "nbformat": 4,
 "nbformat_minor": 2
}
