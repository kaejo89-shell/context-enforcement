{
 "cells": [
  {
   "cell_type": "code",
   "execution_count": 1,
   "id": "41f7013f-6313-483c-91bd-ad616d3d88d4",
   "metadata": {},
   "outputs": [],
   "source": [
    "import sys\n",
    "sys.path.append('../')\n",
    "from datasets import load_dataset\n",
    "import re\n",
    "def normalize_whitespace(string):\n",
    "    return re.sub(r\"(\\s)\\1+\", r\"\\1\", string)"
   ]
  },
  {
   "cell_type": "code",
   "execution_count": 2,
   "id": "fa648158-0117-4346-9f8f-1b7cd5303d04",
   "metadata": {},
   "outputs": [],
   "source": [
    "wikihow_data= load_dataset(\"wikihow\",\"all\",\"../../../Downloads/\")"
   ]
  },
  {
   "cell_type": "code",
   "execution_count": 3,
   "id": "502d7dea-cd84-46e2-b0ca-a3638d867192",
   "metadata": {},
   "outputs": [],
   "source": [
    "def clean_wikihow(data):\n",
    "    data['text']= data['text'].replace(\".\\n\",'. ').strip()\n",
    "    data['text']= normalize_whitespace(data['text'].replace(\"\\n\",' ').strip())\n",
    "    data['title']=data['title'].replace(\".\\n\",'. ').strip()\n",
    "    data['title']=normalize_whitespace(data['title'].replace(\"\\n\",' ').strip())\n",
    "    \n",
    "    data['headline']= normalize_whitespace(data['headline'].replace(\"\\n\",' ').strip())\n",
    "    return data\n",
    "    "
   ]
  },
  {
   "cell_type": "code",
   "execution_count": 14,
   "id": "f787b8d8-cf26-4466-b9a4-a10e76b60f7b",
   "metadata": {},
   "outputs": [],
   "source": [
    "wikihow_data['trains']=list(map(clean_wikihow,wikihow_data['train']))"
   ]
  },
  {
   "cell_type": "code",
   "execution_count": 15,
   "id": "da25ac76-15a2-485b-9291-e6ab6e8f5249",
   "metadata": {},
   "outputs": [
    {
     "data": {
      "text/plain": [
       "{'text': \"If you're a photographer, keep all the necessary lens, cords, and batteries in the same quadrant of your home or studio. Paints should be kept with brushes, cleaner, and canvas, print supplies should be by the ink, etc. Make broader groups and areas for your supplies to make finding them easier, limiting your search to a much smaller area. Some ideas include:\\n\\n\\nEssential supplies area -- the things you use every day.\\nInspiration and reference area.\\nDedicated work area .\\nInfrequent or secondary supplies area, tucked out of the way.;\\n, This doesn't mean cleaning the entire studio, it just means keeping the area immediately around the desk, easel, pottery wheel, etc. clean each night. Discard trash or unnecessary materials and wipe down dirty surfaces. Endeavor to leave the workspace in a way that you can sit down the next day and start working immediately, without having to do any work or tidying.\\n\\n\\nEven if the rest of your studio is a bit disorganized, an organized workspace will help you get down to business every time you want to make art.\\n As visual people, a lot of artist clutter comes from a desire to keep track of supplies visually instead of tucked out of sight. By using jars, old glasses, vases, and cheap, clear plastic drawers, you can keep things in sight without leaving it strewn about haphazardly. Some ideas, beyond those just mentioned, include:\\n\\n\\nCanvas shoe racks on the back of the door\\nWine racks with cups in each slot to hold pens/pencils.\\nPlastic restaurant squirt bottles for paint, pigment, etc., Simply string up the wires across a wall or along the ceiling and use them to hold essential papers that you don't want to cut or ruin with tacks or tape. Cheap and easy, this is also a good way to handle papers and ideas you touch regularly or need to pin up and down for inspiration., Shelving is an artist's best friend and is a cheap and easy way to get more room in your studio or art space. Don't be afraid to get up high either, especially for infrequently used supplies. The upper reaches of the room are often the most under-utilized, but provide vital space for all your tools and materials., Turning one wall into a chalkboard gives you a perfect space for ideas, sketches, and planning without requiring extra equipment or space. You can even use it for smaller areas. Paint over jars or storage equipment, allowing you to relabel them with chalk as your needs change.\\n A lot of disorganization comes when you keep moving the location of things, trying to optimize your space by reorganizing frequently. This usually has the opposite effect, leading to lost items and uncertainty when cleaning, but an afternoon with a label maker can solve everything. Instead of spending all of your mental energy looking for or storing things, you can just follow the labels, freeing your mind to think about art., Once a month, do a purge of your studio. If it isn't essential or part of a project, either throw it out or file it away for later. Artists are constantly making new things, experimenting, and making a mess. This is a good thing, but only if you set aside time to declutter. It may not be fun at the moment, but it is a lot more fun than spending 30 minutes digging through junk to find the right paint or an old sketch.\\n\\n\\nDon't be sentimental here. If you haven't used it in the last six months there is little chance you'll use it in the next six months. Toss it.\",\n",
       " 'headline': 'Keep related supplies in the same area.\\nMake an effort to clean a dedicated workspace after every session.\\nPlace loose supplies in large, clearly visible containers.\\nUse clotheslines and clips to hang sketches, photos, and reference material.\\nUse every inch of the room for storage, especially vertical space.\\nUse chalkboard paint to make space for drafting ideas right on the walls.\\nPurchase a label maker to make your organization strategy semi-permanent.\\nMake a habit of throwing out old, excess, or useless stuff each month.',\n",
       " 'title': 'How to Be an Organized Artist1'}"
      ]
     },
     "execution_count": 15,
     "metadata": {},
     "output_type": "execute_result"
    }
   ],
   "source": [
    "wikihow_data['train'][0]"
   ]
  },
  {
   "cell_type": "code",
   "execution_count": 16,
   "id": "a9d87cfe-40a6-43b5-8457-2bbc32e61a13",
   "metadata": {},
   "outputs": [
    {
     "data": {
      "text/plain": [
       "{'text': \"If you're a photographer, keep all the necessary lens, cords, and batteries in the same quadrant of your home or studio. Paints should be kept with brushes, cleaner, and canvas, print supplies should be by the ink, etc. Make broader groups and areas for your supplies to make finding them easier, limiting your search to a much smaller area. Some ideas include: Essential supplies area -- the things you use every day. Inspiration and reference area. Dedicated work area . Infrequent or secondary supplies area, tucked out of the way.; , This doesn't mean cleaning the entire studio, it just means keeping the area immediately around the desk, easel, pottery wheel, etc. clean each night. Discard trash or unnecessary materials and wipe down dirty surfaces. Endeavor to leave the workspace in a way that you can sit down the next day and start working immediately, without having to do any work or tidying. Even if the rest of your studio is a bit disorganized, an organized workspace will help you get down to business every time you want to make art. As visual people, a lot of artist clutter comes from a desire to keep track of supplies visually instead of tucked out of sight. By using jars, old glasses, vases, and cheap, clear plastic drawers, you can keep things in sight without leaving it strewn about haphazardly. Some ideas, beyond those just mentioned, include: Canvas shoe racks on the back of the door Wine racks with cups in each slot to hold pens/pencils. Plastic restaurant squirt bottles for paint, pigment, etc., Simply string up the wires across a wall or along the ceiling and use them to hold essential papers that you don't want to cut or ruin with tacks or tape. Cheap and easy, this is also a good way to handle papers and ideas you touch regularly or need to pin up and down for inspiration., Shelving is an artist's best friend and is a cheap and easy way to get more room in your studio or art space. Don't be afraid to get up high either, especially for infrequently used supplies. The upper reaches of the room are often the most under-utilized, but provide vital space for all your tools and materials., Turning one wall into a chalkboard gives you a perfect space for ideas, sketches, and planning without requiring extra equipment or space. You can even use it for smaller areas. Paint over jars or storage equipment, allowing you to relabel them with chalk as your needs change. A lot of disorganization comes when you keep moving the location of things, trying to optimize your space by reorganizing frequently. This usually has the opposite effect, leading to lost items and uncertainty when cleaning, but an afternoon with a label maker can solve everything. Instead of spending all of your mental energy looking for or storing things, you can just follow the labels, freeing your mind to think about art., Once a month, do a purge of your studio. If it isn't essential or part of a project, either throw it out or file it away for later. Artists are constantly making new things, experimenting, and making a mess. This is a good thing, but only if you set aside time to declutter. It may not be fun at the moment, but it is a lot more fun than spending 30 minutes digging through junk to find the right paint or an old sketch. Don't be sentimental here. If you haven't used it in the last six months there is little chance you'll use it in the next six months. Toss it.\",\n",
       " 'headline': 'Keep related supplies in the same area. Make an effort to clean a dedicated workspace after every session. Place loose supplies in large, clearly visible containers. Use clotheslines and clips to hang sketches, photos, and reference material. Use every inch of the room for storage, especially vertical space. Use chalkboard paint to make space for drafting ideas right on the walls. Purchase a label maker to make your organization strategy semi-permanent. Make a habit of throwing out old, excess, or useless stuff each month.',\n",
       " 'title': 'How to Be an Organized Artist1'}"
      ]
     },
     "execution_count": 16,
     "metadata": {},
     "output_type": "execute_result"
    }
   ],
   "source": [
    "wikihow_data['trains'][0]"
   ]
  },
  {
   "cell_type": "code",
   "execution_count": 2,
   "id": "d54f1dc8-d269-4319-85a6-2d9c43c440b9",
   "metadata": {},
   "outputs": [],
   "source": [
    "from transformers import AutoTokenizer"
   ]
  },
  {
   "cell_type": "code",
   "execution_count": 3,
   "id": "1e568084-eb4c-4a02-87c2-a16c1cd25a52",
   "metadata": {},
   "outputs": [],
   "source": [
    "bart_tokenizer = AutoTokenizer.from_pretrained(\"facebook/bart-base\")"
   ]
  },
  {
   "cell_type": "code",
   "execution_count": 4,
   "id": "e011ad68-3ca5-483b-9b73-c07383b68935",
   "metadata": {},
   "outputs": [],
   "source": [
    "from context_enforcement.data.wikihowDatasets import create_wikihow_dataset"
   ]
  },
  {
   "cell_type": "code",
   "execution_count": 5,
   "id": "7979fdaa",
   "metadata": {},
   "outputs": [],
   "source": [
    "datapack = create_wikihow_dataset(bart_tokenizer,\"../../../Downloads/\")"
   ]
  },
  {
   "cell_type": "code",
   "execution_count": 10,
   "id": "8faa697d",
   "metadata": {},
   "outputs": [
    {
     "data": {
      "text/plain": [
       "torch.Size([128])"
      ]
     },
     "execution_count": 10,
     "metadata": {},
     "output_type": "execute_result"
    }
   ],
   "source": []
  }
 ],
 "metadata": {
  "kernelspec": {
   "display_name": "Python 3 (ipykernel)",
   "language": "python",
   "name": "python3"
  },
  "language_info": {
   "codemirror_mode": {
    "name": "ipython",
    "version": 3
   },
   "file_extension": ".py",
   "mimetype": "text/x-python",
   "name": "python",
   "nbconvert_exporter": "python",
   "pygments_lexer": "ipython3",
   "version": "3.9.17"
  }
 },
 "nbformat": 4,
 "nbformat_minor": 5
}
