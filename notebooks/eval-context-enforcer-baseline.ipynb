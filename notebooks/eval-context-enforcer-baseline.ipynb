{
 "cells": [
  {
   "cell_type": "code",
   "execution_count": 1,
   "metadata": {},
   "outputs": [
    {
     "name": "stderr",
     "output_type": "stream",
     "text": [
      "/home/nlplab/anaconda3/envs/development/lib/python3.9/site-packages/tqdm/auto.py:21: TqdmWarning: IProgress not found. Please update jupyter and ipywidgets. See https://ipywidgets.readthedocs.io/en/stable/user_install.html\n",
      "  from .autonotebook import tqdm as notebook_tqdm\n",
      "Global seed set to 1376\n",
      "[nltk_data] Downloading package punkt to /home/nlplab/nltk_data...\n",
      "[nltk_data]   Package punkt is already up-to-date!\n",
      "Global seed set to 1376\n"
     ]
    },
    {
     "data": {
      "text/plain": [
       "1376"
      ]
     },
     "execution_count": 1,
     "metadata": {},
     "output_type": "execute_result"
    }
   ],
   "source": [
    "#https://github.com/amazon-science/efficient-longdoc-classification\n",
    "import sys\n",
    "sys.path.append('../')\n",
    "from functools import partial\n",
    "import nltk\n",
    "import pickle as pk\n",
    "import torch\n",
    "from context_enforcement.models.context_enforcer import compute_context_boundary\n",
    "from context_enforcement.trainers.train_bart3 import model_init\n",
    "from context_enforcement.data.common import create_text_tokenizer, SmartCollator\n",
    "from context_enforcement.trainers.common import get_dataset_specified_tasks\n",
    "from pytorch_lightning import seed_everything\n",
    "\n",
    "import sys\n",
    "import os\n",
    "os.environ[\"CUDA_VISIBLE_DEVICES\"] = \"0\"\n",
    "seed_everything(1376)"
   ]
  },
  {
   "cell_type": "code",
   "execution_count": 2,
   "metadata": {},
   "outputs": [],
   "source": [
    "configs= pk.load(open(\"../trained_models/xsum/bart-base-xsum-context-enforcer-baseline/train_args.ap\",'rb'))\n",
    "context_max_len=configs.context_max_len\n",
    "context_max_len_list = [context_max_len]#,300,450]\n",
    "context_sampling_bounds=(0.1, 0.45)"
   ]
  },
  {
   "cell_type": "code",
   "execution_count": null,
   "metadata": {},
   "outputs": [],
   "source": []
  },
  {
   "cell_type": "code",
   "execution_count": 3,
   "metadata": {},
   "outputs": [
    {
     "name": "stderr",
     "output_type": "stream",
     "text": [
      "Found cached dataset xsum (/home/nlplab/.cache/huggingface/datasets/xsum/default/1.2.0/082863bf4754ee058a5b6f6525d0cb2b18eadb62c7b370b095d1364050a52b71)\n",
      "100%|██████████| 3/3 [00:00<00:00, 469.09it/s]\n"
     ]
    }
   ],
   "source": [
    "tokenizer = create_text_tokenizer(configs.model_base)\n",
    "\n",
    "task_dataset_gen = get_dataset_specified_tasks(configs.task_type)\n",
    "\n",
    "train_dataset = None\n",
    "eval_dataset = None\n",
    "test_dataset = None\n",
    "if task_dataset_gen is not None:\n",
    "    raw_dataset = task_dataset_gen(tokenizer=tokenizer, )\n",
    "    train_dataset = raw_dataset['train']\n",
    "    eval_dataset = raw_dataset['validation']\n",
    "    test_dataset = raw_dataset['test']\n",
    "\n",
    "model_builder = model_init(\n",
    "        vocab_size=len(train_dataset.tokenizer),\n",
    "        model_base=configs.model_base,\n",
    "        context_max_len = context_max_len,\n",
    "        context_sampling_bounds = context_sampling_bounds,\n",
    "        context_max_len_list= context_max_len_list,#is_baseline=True\n",
    "        is_enforcement_baseline=configs.is_enforcement_baseline\n",
    "    )"
   ]
  },
  {
   "cell_type": "code",
   "execution_count": 4,
   "metadata": {},
   "outputs": [],
   "source": [
    "generator = model_builder()\n",
    "train_model_path = \"../trained_models/xsum/bart-base-xsum-context-enforcer-baseline/checkpoint-12753/pytorch_model.bin\"\n",
    "state_dict = torch.load(train_model_path)\n",
    "generator.load_state_dict(state_dict)\n",
    "device = torch.device(\"cuda\") if torch.cuda.is_available() else torch.device(\"cpu\")"
   ]
  },
  {
   "cell_type": "code",
   "execution_count": 25,
   "metadata": {},
   "outputs": [],
   "source": [
    "te1= test_dataset[690]\n",
    "b_input_ids = te1.input_ids.view(1, -1).to(device)\n",
    "b_input_mask = te1.attention_mask.view(1, -1).to(device)"
   ]
  },
  {
   "cell_type": "code",
   "execution_count": 8,
   "metadata": {},
   "outputs": [],
   "source": [
    "example= {'document':\"\"\"\n",
    "           Have you been rocking \"The Rachel\" for the last twenty years? If so, then you're overdue for a trendier haircut that can make the most of your youthful face and features. \n",
    "           Check out some stylish magazines or even some celebrity gossip magazines and see what hairstyles are popular these days. \n",
    "           You don't have to go for something ultra-trendy if that's not your thing, but getting a haircut that suits you better than your old one can make you look a decade younger.\n",
    "           \"\"\"}\n",
    "te1=test_dataset._process_data(example)\n",
    "b_input_ids = te1.input_ids.view(1, -1).to(device)\n",
    "b_input_mask = te1.attention_mask.view(1, -1).to(device)"
   ]
  },
  {
   "cell_type": "code",
   "execution_count": 44,
   "metadata": {},
   "outputs": [
    {
     "data": {
      "text/plain": [
       "((39, 79), 241, 200)"
      ]
     },
     "execution_count": 44,
     "metadata": {},
     "output_type": "execute_result"
    }
   ],
   "source": [
    "#seed_everything(1376)\n",
    "boundary_sample =  (0.15, 0.35)\n",
    "seq_len = te1.input_ids[:1024].shape[0]\n",
    "\n",
    "boundary_width = 40\n",
    "# int(0.95*seq_len) \n",
    "context_boundary = compute_context_boundary(seq_len,\n",
    "                                            context_sampling_bounds=boundary_sample,\n",
    "                                            context_max_len=boundary_width)\n",
    "context_boundary,seq_len,context_max_len"
   ]
  },
  {
   "cell_type": "code",
   "execution_count": 45,
   "metadata": {},
   "outputs": [
    {
     "data": {
      "text/plain": [
       "[\"Kenya's authorities have deported Rumba singer Yolanda Olomide from the Kenyan capital, Nairobi.\"]"
      ]
     },
     "execution_count": 45,
     "metadata": {},
     "output_type": "execute_result"
    }
   ],
   "source": [
    "generator.eval()\n",
    "with torch.no_grad():\n",
    "    bb=generator.generate(input_ids=b_input_ids[:,:1024],\n",
    "                attention_mask=b_input_mask[:,:1024],\n",
    "                context_boundary=context_boundary,\n",
    "                eos_token_id=test_dataset.tokenizer.eos_token_id,\n",
    "        max_length=189,\n",
    "        early_stopping=True,\n",
    "        use_cache=True,\n",
    "        num_beams=10,\n",
    "        )\n",
    "test_dataset.tokenizer.batch_decode(bb,clean_up_tokenization_spaces=True,skip_special_tokens=True)"
   ]
  },
  {
   "cell_type": "code",
   "execution_count": 46,
   "metadata": {},
   "outputs": [
    {
     "data": {
      "text/plain": [
       "(0.1, 0.45)"
      ]
     },
     "execution_count": 46,
     "metadata": {},
     "output_type": "execute_result"
    }
   ],
   "source": [
    "test_dataset.tokenizer.decode(te1.labels,clean_up_tokenization_spaces=True,skip_special_tokens=True)\n",
    "context_sampling_bounds"
   ]
  },
  {
   "cell_type": "code",
   "execution_count": 47,
   "metadata": {},
   "outputs": [
    {
     "name": "stderr",
     "output_type": "stream",
     "text": [
      "[nltk_data] Downloading package wordnet to /home/nlplab/nltk_data...\n",
      "[nltk_data]   Package wordnet is already up-to-date!\n",
      "[nltk_data] Downloading package punkt to /home/nlplab/nltk_data...\n",
      "[nltk_data]   Package punkt is already up-to-date!\n",
      "[nltk_data] Downloading package omw-1.4 to /home/nlplab/nltk_data...\n",
      "[nltk_data]   Package omw-1.4 is already up-to-date!\n"
     ]
    }
   ],
   "source": [
    "from torch.utils.data import DataLoader,SequentialSampler\n",
    "import tqdm\n",
    "from context_enforcement.data.common import write_to_file\n",
    "import evaluate\n",
    "metrics = evaluate.combine(['bleu','meteor',\"rouge\"])\n",
    "def generate(context_max_len:int):\n",
    "    test_data_loader = DataLoader(test_dataset,batch_size=12,\n",
    "                                sampler= SequentialSampler(test_dataset),\n",
    "                                collate_fn= SmartCollator(\n",
    "                pad_token_id=train_dataset.tokenizer.pad_token_id,\n",
    "                max_len=configs.max_seq_len,\n",
    "                context_max_len=context_max_len,\n",
    "                context_sampling_bounds=context_sampling_bounds,\n",
    "            \n",
    "            ))\n",
    "\n",
    "    output_summaries =[]\n",
    "    for batch in tqdm.tqdm(test_data_loader):\n",
    "        b_input_ids = batch['input_ids'].to(device)\n",
    "        b_input_mask = batch['attention_mask'].to(device)\n",
    "        \n",
    "        seq_len = b_input_ids.shape[1]\n",
    "\n",
    "        \n",
    "        \n",
    "        boundary_mask =  batch[\"boundary\"]\n",
    "        bb=generator.generate(input_ids=b_input_ids,\n",
    "                attention_mask=b_input_mask,\n",
    "                context_boundary=boundary_mask,\n",
    "                num_beams=10,\n",
    "                do_sample=False,\n",
    "                early_stopping=True,\n",
    "                use_cache=True,\n",
    "                num_return_sequences=1,\n",
    "                max_length=160)\n",
    "        sentences = test_dataset.tokenizer.batch_decode(bb,clean_up_tokenization_spaces=True,skip_special_tokens=True)\n",
    "        output_summaries+=sentences\n",
    "    return output_summaries"
   ]
  },
  {
   "cell_type": "code",
   "execution_count": 48,
   "metadata": {},
   "outputs": [
    {
     "name": "stderr",
     "output_type": "stream",
     "text": [
      "Token indices sequence length is longer than the specified maximum sequence length for this model (1327 > 1024). Running this sequence through the model will result in indexing errors\n"
     ]
    }
   ],
   "source": [
    "targets = [tokenizer.decode(c.labels,clean_up_tokenization_spaces=True,skip_special_tokens=True) for c in test_dataset]"
   ]
  },
  {
   "cell_type": "code",
   "execution_count": 49,
   "metadata": {},
   "outputs": [],
   "source": [
    "os.makedirs(\"outputs/xsum/context-enforcer-baseline/\",exist_ok=True)"
   ]
  },
  {
   "cell_type": "code",
   "execution_count": null,
   "metadata": {},
   "outputs": [],
   "source": []
  },
  {
   "cell_type": "code",
   "execution_count": null,
   "metadata": {},
   "outputs": [],
   "source": [
    "context_lens = [70,120,220,320,420,520,620,720]\n",
    "outputs = {}\n",
    "results = {}\n",
    "for cl in context_lens:\n",
    "    print(f'Generating for the context length: {cl}')\n",
    "    rbase_output = generate(context_max_len=cl)\n",
    "    outputs[cl] = rbase_output\n",
    "    \n",
    "    write_to_file(rbase_output[:len(test_dataset)], \n",
    "              f\"outputs/xsum/context-enforcer-baseline//best_base_final_{cl}\")\n",
    "    \n",
    "    scores = metrics.compute(predictions=rbase_output,references=targets)\n",
    "    print(scores)\n",
    "    \n",
    "    results[cl]= scores\n",
    "    \n",
    "    \n",
    "    "
   ]
  }
 ],
 "metadata": {
  "kernelspec": {
   "display_name": "development",
   "language": "python",
   "name": "python3"
  },
  "language_info": {
   "codemirror_mode": {
    "name": "ipython",
    "version": 3
   },
   "file_extension": ".py",
   "mimetype": "text/x-python",
   "name": "python",
   "nbconvert_exporter": "python",
   "pygments_lexer": "ipython3",
   "version": "3.9.16"
  },
  "orig_nbformat": 4
 },
 "nbformat": 4,
 "nbformat_minor": 2
}
