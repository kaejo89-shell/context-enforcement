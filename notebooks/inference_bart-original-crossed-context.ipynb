{
 "cells": [
  {
   "cell_type": "code",
   "execution_count": 3,
   "metadata": {},
   "outputs": [
    {
     "name": "stderr",
     "output_type": "stream",
     "text": [
      "Global seed set to 1376\n",
      "[nltk_data] Downloading package punkt to /home/nlplab/nltk_data...\n",
      "[nltk_data]   Package punkt is already up-to-date!\n",
      "Global seed set to 1376\n"
     ]
    },
    {
     "data": {
      "text/plain": [
       "1376"
      ]
     },
     "execution_count": 3,
     "metadata": {},
     "output_type": "execute_result"
    }
   ],
   "source": [
    "#https://github.com/amazon-science/efficient-longdoc-classification\n",
    "from functools import partial\n",
    "import nltk\n",
    "import pickle as pk\n",
    "import torch\n",
    "from context_enforcement.models.context_enforcer import compute_context_boundary\n",
    "from context_enforcement.trainers.train_bart import model_init\n",
    "from context_enforcement.data.common import create_text_tokenizer, SmartCollator\n",
    "from context_enforcement.trainers.common import get_dataset_specified_tasks\n",
    "from pytorch_lightning import seed_everything\n",
    "\n",
    "import sys\n",
    "import os\n",
    "os.environ[\"CUDA_VISIBLE_DEVICES\"] = \"0\"\n",
    "seed_everything(1376)"
   ]
  },
  {
   "cell_type": "code",
   "execution_count": 2,
   "metadata": {},
   "outputs": [
    {
     "data": {
      "text/plain": [
       "device(type='cuda', index=0)"
      ]
     },
     "execution_count": 2,
     "metadata": {},
     "output_type": "execute_result"
    }
   ],
   "source": [
    "z=torch.ones((1,2),dtype=torch.long,device='cuda')\n",
    "z.device"
   ]
  },
  {
   "cell_type": "code",
   "execution_count": 13,
   "metadata": {},
   "outputs": [
    {
     "data": {
      "text/plain": [
       "Namespace(is_baseline=False, model_base='facebook/bart-base', output_dir='trained_models_sum_boundary/', task_type='xsum', run_id='bart_base_model_context_enforcer_250', eval_steps=1000, learning_rate=5e-05, max_seq_len=800, evaluation_strategy='epoch', save_strategy='epoch', seed=10, lr_scheduler_type='linear', weight_decay=0.0, warmup_ratio=0.25, num_train_epochs=10, save_total_limit=1, per_device_train_batch_size=12, per_device_eval_batch_size=12, gradient_accumulation_steps=4, fp16=True, verbose=False, context_max_len=250)"
      ]
     },
     "execution_count": 13,
     "metadata": {},
     "output_type": "execute_result"
    }
   ],
   "source": [
    "configs"
   ]
  },
  {
   "cell_type": "code",
   "execution_count": 5,
   "metadata": {},
   "outputs": [],
   "source": [
    "configs= pk.load(open(\"trained-models/bart-base-context-enhance-form1/train_args.ap\",'rb'))\n",
    "context_max_len=configs.context_max_len\n",
    "context_max_len_list = [context_max_len]#,300,450]\n",
    "context_sampling_bounds=(0.1, 0.45)"
   ]
  },
  {
   "cell_type": "code",
   "execution_count": 3,
   "metadata": {},
   "outputs": [
    {
     "data": {
      "text/plain": [
       "'facebook/bart-base'"
      ]
     },
     "execution_count": 3,
     "metadata": {},
     "output_type": "execute_result"
    }
   ],
   "source": [
    "configs.model_base"
   ]
  },
  {
   "cell_type": "code",
   "execution_count": 16,
   "metadata": {},
   "outputs": [],
   "source": []
  },
  {
   "cell_type": "code",
   "execution_count": 6,
   "metadata": {},
   "outputs": [
    {
     "name": "stderr",
     "output_type": "stream",
     "text": [
      "Found cached dataset xsum (/home/nlplab/.cache/huggingface/datasets/xsum/default/1.2.0/082863bf4754ee058a5b6f6525d0cb2b18eadb62c7b370b095d1364050a52b71)\n",
      "100%|██████████| 3/3 [00:00<00:00, 791.03it/s]\n"
     ]
    }
   ],
   "source": [
    "tokenizer = create_text_tokenizer(configs.model_base)\n",
    "\n",
    "task_dataset_gen = get_dataset_specified_tasks(configs.task_type)\n",
    "\n",
    "train_dataset = None\n",
    "eval_dataset = None\n",
    "test_dataset = None\n",
    "if task_dataset_gen is not None:\n",
    "    raw_dataset = task_dataset_gen(tokenizer=tokenizer, )\n",
    "    train_dataset = raw_dataset['train']\n",
    "    eval_dataset = raw_dataset['validation']\n",
    "    test_dataset = raw_dataset['test']\n",
    "\n",
    "model_builder = model_init(\n",
    "        vocab_size=len(train_dataset.tokenizer),\n",
    "        model_base=configs.model_base,\n",
    "        context_max_len = context_max_len,\n",
    "        context_sampling_bounds = context_sampling_bounds,\n",
    "        context_max_len_list= context_max_len_list,#is_baseline=True\n",
    "    )"
   ]
  },
  {
   "cell_type": "code",
   "execution_count": null,
   "metadata": {},
   "outputs": [],
   "source": []
  },
  {
   "cell_type": "code",
   "execution_count": 4,
   "metadata": {},
   "outputs": [
    {
     "name": "stderr",
     "output_type": "stream",
     "text": [
      "Some weights of BartForContextualRecovery were not initialized from the model checkpoint at facebook/bart-base and are newly initialized: ['encoder.layers.5.context_enforcer._context_mha.out_proj.weight', 'encoder.layers.1.context_enforcer_layer_norm.weight', 'encoder.layers.5.context_enforcer._right_mha.out_proj.weight', 'encoder.layers.1.context_enforcer._wlc.bias', 'encoder.layers.3.context_enforcer._context_mha.out_proj.bias', 'encoder.layers.3.context_enforcer._right_mha.in_proj_weight', 'encoder.layers.1.context_enforcer._wfc.bias', 'encoder.layers.1.context_enforcer._wrc.bias', 'encoder.layers.3.context_enforcer._wrc.weight', 'encoder.layers.3.context_enforcer._right_mha.out_proj.weight', 'encoder.layers.1.context_enforcer._wlc.weight', 'encoder.layers.3.context_enforcer_layer_norm.bias', 'encoder.layers.5.context_enforcer._right_mha.in_proj_bias', 'encoder.layers.3.context_enforcer._context_mha.in_proj_weight', 'encoder.layers.5.context_enforcer._wrc.weight', 'encoder.layers.1.context_enforcer_layer_norm.bias', 'encoder.layers.5.context_enforcer_layer_norm.weight', 'encoder.layers.5.context_enforcer._context_mha.out_proj.bias', 'encoder.layers.5.context_enforcer._left_mha.out_proj.bias', 'encoder.layers.1.context_enforcer._left_mha.in_proj_weight', 'encoder.layers.1.context_enforcer._context_mha.out_proj.weight', 'encoder.layers.1.context_enforcer._left_mha.out_proj.bias', 'encoder.layers.1.context_enforcer._context_mha.in_proj_weight', 'encoder.layers.5.context_enforcer._left_mha.in_proj_bias', 'encoder.layers.5.context_enforcer._context_mha.in_proj_weight', 'encoder.layers.1.context_enforcer._wfc.weight', 'encoder.layers.3.context_enforcer._wlc.bias', 'encoder.layers.3.context_enforcer._context_mha.out_proj.weight', 'encoder.layers.1.context_enforcer._context_mha.in_proj_bias', 'encoder.layers.1.context_enforcer._right_mha.in_proj_weight', 'encoder.layers.3.context_enforcer._left_mha.out_proj.bias', 'encoder.layers.3.context_enforcer._context_mha.in_proj_bias', 'encoder.layers.5.context_enforcer._left_mha.out_proj.weight', 'encoder.layers.3.context_enforcer._left_mha.out_proj.weight', 'encoder.layers.3.context_enforcer._right_mha.out_proj.bias', 'encoder.layers.1.context_enforcer._wrc.weight', 'encoder.layers.3.context_enforcer._right_mha.in_proj_bias', 'encoder.layers.1.context_enforcer._right_mha.in_proj_bias', 'encoder.layers.3.context_enforcer._wlc.weight', 'encoder.layers.5.context_enforcer._context_mha.in_proj_bias', 'encoder.layers.5.context_enforcer._wfc.bias', 'encoder.layers.1.context_enforcer._right_mha.out_proj.bias', 'encoder.layers.3.context_enforcer._left_mha.in_proj_bias', 'encoder.layers.5.context_enforcer._wfc.weight', 'encoder.layers.1.context_enforcer._left_mha.in_proj_bias', 'encoder.layers.5.context_enforcer._right_mha.in_proj_weight', 'encoder.layers.3.context_enforcer._wfc.weight', 'encoder.layers.3.context_enforcer._wfc.bias', 'encoder.layers.1.context_enforcer._context_mha.out_proj.bias', 'encoder.layers.5.context_enforcer._wlc.weight', 'encoder.layers.5.context_enforcer_layer_norm.bias', 'encoder.layers.1.context_enforcer._right_mha.out_proj.weight', 'encoder.layers.1.context_enforcer._left_mha.out_proj.weight', 'encoder.layers.5.context_enforcer._left_mha.in_proj_weight', 'encoder.layers.3.context_enforcer._left_mha.in_proj_weight', 'encoder.layers.5.context_enforcer._wrc.bias', 'encoder.layers.5.context_enforcer._wlc.bias', 'encoder.layers.3.context_enforcer._wrc.bias', 'encoder.layers.5.context_enforcer._right_mha.out_proj.bias', 'encoder.layers.3.context_enforcer_layer_norm.weight']\n",
      "You should probably TRAIN this model on a down-stream task to be able to use it for predictions and inference.\n"
     ]
    }
   ],
   "source": [
    "generator = model_builder()\n",
    "train_model_path = \"trained-models/bart-base-context-enforcer/checkpoint-29757/pytorch_model.bin\"\n",
    "state_dict = torch.load(train_model_path)\n",
    "generator.load_state_dict(state_dict)\n",
    "device = torch.device(\"cuda\") if torch.cuda.is_available() else torch.device(\"cpu\")"
   ]
  },
  {
   "cell_type": "code",
   "execution_count": 5,
   "metadata": {},
   "outputs": [],
   "source": [
    "te1= test_dataset[690]\n",
    "b_input_ids = te1.input_ids.view(1, -1).to(device)\n",
    "b_input_mask = te1.attention_mask.view(1, -1).to(device)"
   ]
  },
  {
   "cell_type": "code",
   "execution_count": 5,
   "metadata": {},
   "outputs": [],
   "source": [
    "example= {'document':\"\"\"\n",
    "          Gently exfoliating encourages skin cell renewal, therefore encouraging younger looking skin.\n",
    "          Choose something that is aimed at older skin as they are more gentle and less likely to dry out or damage the skin.\n",
    "          Exfoliation is also good to do as it leaves your skin feeling softer and looking brighter.\n",
    "          For men, exfoliating before shaving your face can make the shaving process easier as it exposes more of the hair.\n",
    "           \"\"\"}\n",
    "te1=test_dataset._process_data(example)\n",
    "b_input_ids = te1.input_ids.view(1, -1).to(device)\n",
    "b_input_mask = te1.attention_mask.view(1, -1).to(device)"
   ]
  },
  {
   "cell_type": "code",
   "execution_count": 6,
   "metadata": {},
   "outputs": [
    {
     "data": {
      "text/plain": [
       "((57, 153), 241, 310)"
      ]
     },
     "execution_count": 6,
     "metadata": {},
     "output_type": "execute_result"
    }
   ],
   "source": [
    "#seed_everything(1376)\n",
    "boundary_sample =  (0.15, 0.35)\n",
    "seq_len = te1.input_ids[:1024].shape[0]\n",
    "\n",
    "boundary_start = int(0.4*seq_len) \n",
    "context_boundary = compute_context_boundary(seq_len,\n",
    "                                            context_sampling_bounds=boundary_sample,\n",
    "                                            context_max_len=boundary_start)\n",
    "\n",
    "context_boundary,seq_len,context_max_len"
   ]
  },
  {
   "cell_type": "code",
   "execution_count": 7,
   "metadata": {},
   "outputs": [
    {
     "data": {
      "text/plain": [
       "['The Democratic Republic of Congo singer Koffi Olomide has been arrested and taken into police custody in the capital, Kinshasa.']"
      ]
     },
     "execution_count": 7,
     "metadata": {},
     "output_type": "execute_result"
    }
   ],
   "source": [
    "generator.eval()\n",
    "with torch.no_grad():\n",
    "    bb=generator.generate(input_ids=b_input_ids[:,:1024],\n",
    "                attention_mask=b_input_mask[:,:1024],\n",
    "                context_boundary=context_boundary,\n",
    "                eos_token_id=test_dataset.tokenizer.eos_token_id,\n",
    "        max_length=189,\n",
    "        early_stopping=True,\n",
    "        use_cache=True,\n",
    "        num_beams=10,\n",
    "        )\n",
    "test_dataset.tokenizer.batch_decode(bb,clean_up_tokenization_spaces=True,skip_special_tokens=True)"
   ]
  },
  {
   "cell_type": "code",
   "execution_count": null,
   "metadata": {},
   "outputs": [
    {
     "data": {
      "text/plain": [
       "[\"Uganda's popular rumba singer Oscar Pistorius has been taken into police custody in the Democratic Republic of Congo, his lawyer says.\"]"
      ]
     },
     "metadata": {},
     "output_type": "display_data"
    }
   ],
   "source": [
    "generator.eval()\n",
    "with torch.no_grad():\n",
    "    bb=generator.generate(input_ids=b_input_ids[:,:1024],\n",
    "                attention_mask=b_input_mask[:,:1024],\n",
    "                context_boundary=context_boundary,\n",
    "                eos_token_id=test_dataset.tokenizer.eos_token_id,\n",
    "        max_length=189,\n",
    "        early_stopping=True,\n",
    "        use_cache=True,\n",
    "        num_beams=8,\n",
    "        )\n",
    "test_dataset.tokenizer.batch_decode(bb,clean_up_tokenization_spaces=True,skip_special_tokens=True)"
   ]
  },
  {
   "cell_type": "code",
   "execution_count": 10,
   "metadata": {},
   "outputs": [
    {
     "data": {
      "text/plain": [
       "'Musician Koffi Olomide has been taken into custody in the Democratic Republic of Congo, days after he was deported from Kenya for allegedly kicking one of his dancers at an airport in Nairobi.'"
      ]
     },
     "execution_count": 10,
     "metadata": {},
     "output_type": "execute_result"
    }
   ],
   "source": [
    "test_dataset.tokenizer.decode(te1.labels,clean_up_tokenization_spaces=True,skip_special_tokens=True)"
   ]
  },
  {
   "cell_type": "code",
   "execution_count": 5,
   "metadata": {},
   "outputs": [
    {
     "ename": "NameError",
     "evalue": "name 'te1' is not defined",
     "output_type": "error",
     "traceback": [
      "\u001b[0;31m---------------------------------------------------------------------------\u001b[0m",
      "\u001b[0;31mNameError\u001b[0m                                 Traceback (most recent call last)",
      "Cell \u001b[0;32mIn[5], line 1\u001b[0m\n\u001b[0;32m----> 1\u001b[0m te1\u001b[39m.\u001b[39minput_ids\u001b[39m.\u001b[39mshape\n",
      "\u001b[0;31mNameError\u001b[0m: name 'te1' is not defined"
     ]
    }
   ],
   "source": [
    "te1.input_ids.shape"
   ]
  },
  {
   "cell_type": "code",
   "execution_count": 13,
   "metadata": {},
   "outputs": [
    {
     "name": "stdout",
     "output_type": "stream",
     "text": [
      "A judge is considering whether to charge the star over the incident, which was filmed and went viral.\n",
      "He will spend the night in detention and investigations will continue on Wednesday, a BBC reporter says.\n",
      "Olomide has denied assault, though he has since apologised for his behaviour.\n",
      "The Kenyan authorities deported the 60-year-old rumba singer and three of his dancers on Saturday to DR Congo's capital, Kinshasa, following a public outcry over the incident.\n",
      "The BBC's Poly Muzalia in Kinshasa says police officers arrived at the singer's home early on Tuesday morning and took him into custody.\n",
      "He was handcuffed, put into a police car and then taken to a court where a judge is considering whether he should be put on trial.\n",
      "His lawyer, Landry Tanganyi, told the BBC that Olomide, one of Africa's most popular musicians, should not be detained overnight as he was not a flight risk.\n",
      "However, Olomide left the courthouse under police escort and will spend the night at the police station, our reporter says.\n",
      "The Congolese musician has been in similar trouble in the past:\n"
     ]
    }
   ],
   "source": [
    "print(test_dataset.tokenizer.decode(te1.input_ids,clean_up_tokenization_spaces=True,skip_special_tokens=True))"
   ]
  },
  {
   "cell_type": "code",
   "execution_count": 5,
   "metadata": {},
   "outputs": [],
   "source": [
    "generator.model.context_max_len= 800\n",
    "generator.model.encoder.context_max_len= 800"
   ]
  },
  {
   "cell_type": "code",
   "execution_count": null,
   "metadata": {},
   "outputs": [],
   "source": []
  },
  {
   "cell_type": "code",
   "execution_count": 5,
   "metadata": {},
   "outputs": [
    {
     "name": "stderr",
     "output_type": "stream",
     "text": [
      "[nltk_data] Downloading package wordnet to /home/nlplab/nltk_data...\n",
      "[nltk_data]   Package wordnet is already up-to-date!\n",
      "[nltk_data] Downloading package punkt to /home/nlplab/nltk_data...\n",
      "[nltk_data]   Package punkt is already up-to-date!\n",
      "[nltk_data] Downloading package omw-1.4 to /home/nlplab/nltk_data...\n",
      "[nltk_data]   Package omw-1.4 is already up-to-date!\n"
     ]
    }
   ],
   "source": [
    "from torch.utils.data import DataLoader,SequentialSampler\n",
    "import tqdm\n",
    "from context_enforcement.data.common import write_to_file\n",
    "import evaluate\n",
    "metrics = evaluate.combine(['bleu','meteor',\"rouge\"])\n",
    "def generate():\n",
    "    # context_sampling_bounds = (0.05,0.25)\n",
    "    test_data_loader = DataLoader(test_dataset,batch_size=12,\n",
    "                                sampler= SequentialSampler(test_dataset),\n",
    "                                collate_fn= SmartCollator(\n",
    "                pad_token_id=train_dataset.tokenizer.pad_token_id,\n",
    "                max_len=configs.max_seq_len,\n",
    "                context_max_len=context_max_len,\n",
    "                context_sampling_bounds=context_sampling_bounds,\n",
    "            \n",
    "            ))\n",
    "\n",
    "    output_summaries =[]\n",
    "    for batch in tqdm.tqdm(test_data_loader):\n",
    "        b_input_ids = batch['input_ids'].to(device)\n",
    "        b_input_mask = batch['attention_mask'].to(device)\n",
    "        \n",
    "        seq_len = b_input_ids.shape[1]\n",
    "\n",
    "        context_boundary = compute_context_boundary(seq_len,\n",
    "                                                    context_max_len=110)\n",
    "        \n",
    "        boundary_mask =  batch.get(\"boundary\",)\n",
    "        with torch.no_grad():\n",
    "            bb=generator.generate(input_ids=b_input_ids,\n",
    "                    attention_mask=b_input_mask,\n",
    "                    context_boundary=boundary_mask,\n",
    "                    num_beams=10,\n",
    "                    do_sample=False,\n",
    "                    num_return_sequences=1,\n",
    "                    max_length=160)\n",
    "        sentences = test_dataset.tokenizer.batch_decode(bb,clean_up_tokenization_spaces=True,skip_special_tokens=True)\n",
    "        output_summaries+=sentences\n",
    "    return output_summaries"
   ]
  },
  {
   "cell_type": "code",
   "execution_count": 6,
   "metadata": {},
   "outputs": [
    {
     "name": "stderr",
     "output_type": "stream",
     "text": [
      "Token indices sequence length is longer than the specified maximum sequence length for this model (1327 > 1024). Running this sequence through the model will result in indexing errors\n"
     ]
    }
   ],
   "source": [
    "targets = [tokenizer.decode(c.labels,clean_up_tokenization_spaces=True,skip_special_tokens=True) for c in test_dataset]"
   ]
  },
  {
   "cell_type": "code",
   "execution_count": 7,
   "metadata": {},
   "outputs": [],
   "source": [
    "output_folder = 'outputs/bart-context-enforcer/best-29757/'\n",
    "os.makedirs(output_folder,exist_ok=True)"
   ]
  },
  {
   "cell_type": "code",
   "execution_count": 8,
   "metadata": {},
   "outputs": [
    {
     "name": "stdout",
     "output_type": "stream",
     "text": [
      "Generating for the context length: 70\n"
     ]
    },
    {
     "name": "stderr",
     "output_type": "stream",
     "text": [
      "100%|██████████| 945/945 [33:23<00:00,  2.12s/it] \n"
     ]
    },
    {
     "name": "stdout",
     "output_type": "stream",
     "text": [
      "Done\n",
      "{'bleu': 0.09289873176942315, 'precisions': [0.38470217484340347, 0.13430427331778738, 0.06649126086102206, 0.036194096034460915], 'brevity_penalty': 0.8797425367801427, 'length_ratio': 0.8864258179226413, 'translation_length': 231327, 'reference_length': 260966, 'meteor': 0.3019540336536042, 'rouge1': 0.3519294790864753, 'rouge2': 0.14156512810311236, 'rougeL': 0.2847612821341625, 'rougeLsum': 0.28466492829881795}\n",
      "Generating for the context length: 100\n"
     ]
    },
    {
     "name": "stderr",
     "output_type": "stream",
     "text": [
      "100%|██████████| 945/945 [34:49<00:00,  2.21s/it]\n"
     ]
    },
    {
     "name": "stdout",
     "output_type": "stream",
     "text": [
      "Done\n",
      "{'bleu': 0.1008520817476466, 'precisions': [0.4006564197590214, 0.14634707080553422, 0.07438309184133807, 0.04160870569514668], 'brevity_penalty': 0.8689228617701171, 'length_ratio': 0.876807706751071, 'translation_length': 228817, 'reference_length': 260966, 'meteor': 0.31552595580700815, 'rouge1': 0.36666610414014633, 'rouge2': 0.15333178255601693, 'rougeL': 0.2975021893222358, 'rougeLsum': 0.29737280327145404}\n",
      "Generating for the context length: 200\n"
     ]
    },
    {
     "name": "stderr",
     "output_type": "stream",
     "text": [
      "100%|██████████| 945/945 [41:07<00:00,  2.61s/it]\n"
     ]
    },
    {
     "name": "stdout",
     "output_type": "stream",
     "text": [
      "Done\n",
      "{'bleu': 0.11245284508349526, 'precisions': [0.4229064778686064, 0.16411890977688154, 0.08610609746527505, 0.049123882131765634], 'brevity_penalty': 0.8590888070121084, 'length_ratio': 0.868143742863055, 'translation_length': 226556, 'reference_length': 260966, 'meteor': 0.3357640473603354, 'rouge1': 0.38647213309191925, 'rouge2': 0.1695387652276374, 'rougeL': 0.31478298709661745, 'rougeLsum': 0.31474207013977845}\n",
      "Generating for the context length: 300\n"
     ]
    },
    {
     "name": "stderr",
     "output_type": "stream",
     "text": [
      "100%|██████████| 945/945 [48:31<00:00,  3.08s/it]  \n"
     ]
    },
    {
     "name": "stdout",
     "output_type": "stream",
     "text": [
      "Done\n",
      "{'bleu': 0.11596022731891598, 'precisions': [0.4305378446226646, 0.16970865246501443, 0.0901446167680351, 0.05196191832013524], 'brevity_penalty': 0.8525581012384802, 'length_ratio': 0.8624303549121342, 'translation_length': 225065, 'reference_length': 260966, 'meteor': 0.3411094029570828, 'rouge1': 0.3929215631567169, 'rouge2': 0.1749545644479576, 'rougeL': 0.3213551667975668, 'rougeLsum': 0.3213869320243329}\n",
      "Generating for the context length: 400\n"
     ]
    },
    {
     "name": "stderr",
     "output_type": "stream",
     "text": [
      "100%|██████████| 945/945 [55:10<00:00,  3.50s/it]  \n"
     ]
    },
    {
     "name": "stdout",
     "output_type": "stream",
     "text": [
      "Done\n",
      "{'bleu': 0.116453744376084, 'precisions': [0.43155483456930976, 0.17102088711570054, 0.0911330781891372, 0.052489205912323644], 'brevity_penalty': 0.8495631397674898, 'length_ratio': 0.8598208195703655, 'translation_length': 224384, 'reference_length': 260966, 'meteor': 0.3415006733023984, 'rouge1': 0.393336347460204, 'rouge2': 0.1761138745237874, 'rougeL': 0.32254237071368097, 'rougeLsum': 0.32249024830254003}\n",
      "Generating for the context length: 500\n"
     ]
    },
    {
     "name": "stderr",
     "output_type": "stream",
     "text": [
      "100%|██████████| 945/945 [1:02:19<00:00,  3.96s/it]\n"
     ]
    },
    {
     "name": "stdout",
     "output_type": "stream",
     "text": [
      "Done\n",
      "{'bleu': 0.11730734115252861, 'precisions': [0.4331752624229906, 0.17241233490111688, 0.09208260336587375, 0.05310292965360567], 'brevity_penalty': 0.8485807557348521, 'length_ratio': 0.8589663021236483, 'translation_length': 224161, 'reference_length': 260966, 'meteor': 0.34285716032154273, 'rouge1': 0.39438413600795896, 'rouge2': 0.17695651896552428, 'rougeL': 0.3235800092344216, 'rougeLsum': 0.3235640301975921}\n",
      "Generating for the context length: 600\n"
     ]
    },
    {
     "name": "stderr",
     "output_type": "stream",
     "text": [
      " 64%|██████▍   | 609/945 [42:10<22:06,  3.95s/it]  "
     ]
    }
   ],
   "source": [
    "context_lens = [70,100,200,300,400,500,600,700]\n",
    "outputs = {}\n",
    "results = {}\n",
    "for cl in context_lens:\n",
    "    print(f'Generating for the context length: {cl}')\n",
    "    generator.model.context_max_len= cl\n",
    "    generator.model.encoder.context_max_len= cl\n",
    "    rbase_output = generate()\n",
    "    outputs[cl] = rbase_output\n",
    "    \n",
    "    write_to_file(rbase_output[:len(test_dataset)], \n",
    "              f\"{output_folder}/generated_with_contextlen_{cl}\")\n",
    "    \n",
    "    scores = metrics.compute(predictions=rbase_output,references=targets)\n",
    "    print(scores)\n",
    "    \n",
    "    results[cl]= scores"
   ]
  },
  {
   "cell_type": "code",
   "execution_count": 8,
   "metadata": {},
   "outputs": [
    {
     "name": "stdout",
     "output_type": "stream",
     "text": [
      "Generating for the context length: 70\n"
     ]
    },
    {
     "name": "stderr",
     "output_type": "stream",
     "text": [
      "100%|██████████| 945/945 [34:10<00:00,  2.17s/it] \n"
     ]
    },
    {
     "name": "stdout",
     "output_type": "stream",
     "text": [
      "Done\n",
      "{'bleu': 0.09250959688881132, 'precisions': [0.3801851305028822, 0.13212706722617265, 0.06531124854861259, 0.03561841419928683], 'brevity_penalty': 0.889763152364391, 'length_ratio': 0.8954154947387782, 'translation_length': 233673, 'reference_length': 260966, 'meteor': 0.3011444585413878, 'rouge1': 0.35035226251894036, 'rouge2': 0.1405239093157331, 'rougeL': 0.28208045988279706, 'rougeLsum': 0.2819424162036307}\n",
      "Generating for the context length: 100\n"
     ]
    },
    {
     "name": "stderr",
     "output_type": "stream",
     "text": [
      "100%|██████████| 945/945 [35:11<00:00,  2.23s/it]\n"
     ]
    },
    {
     "name": "stdout",
     "output_type": "stream",
     "text": [
      "Done\n",
      "{'bleu': 0.10272110045943982, 'precisions': [0.39918809201623817, 0.14667530537533074, 0.07490280736276017, 0.041793742804629275], 'brevity_penalty': 0.8828230796933534, 'length_ratio': 0.889180966102864, 'translation_length': 232046, 'reference_length': 260966, 'meteor': 0.31877442501002473, 'rouge1': 0.36800137226389906, 'rouge2': 0.15428097005955713, 'rougeL': 0.297750798313312, 'rougeLsum': 0.2976870208349942}\n",
      "Generating for the context length: 200\n"
     ]
    },
    {
     "name": "stderr",
     "output_type": "stream",
     "text": [
      "100%|██████████| 945/945 [41:28<00:00,  2.63s/it] \n"
     ]
    },
    {
     "name": "stdout",
     "output_type": "stream",
     "text": [
      "Done\n",
      "{'bleu': 0.11361717189200672, 'precisions': [0.421176367958476, 0.16351964612652628, 0.08576116787755872, 0.04905179168608492], 'brevity_penalty': 0.8708615195317272, 'length_ratio': 0.8785244054781083, 'translation_length': 229265, 'reference_length': 260966, 'meteor': 0.3377151623822312, 'rouge1': 0.38836235886104475, 'rouge2': 0.1701894524613557, 'rougeL': 0.31653004639690163, 'rougeLsum': 0.31634967546682513}\n",
      "Generating for the context length: 300\n"
     ]
    },
    {
     "name": "stderr",
     "output_type": "stream",
     "text": [
      "100%|██████████| 945/945 [48:14<00:00,  3.06s/it]  \n"
     ]
    },
    {
     "name": "stdout",
     "output_type": "stream",
     "text": [
      "Done\n",
      "{'bleu': 0.11635300912522392, 'precisions': [0.4287825215050926, 0.168902218889722, 0.08935619382571316, 0.051125727818973454], 'brevity_penalty': 0.862717228517661, 'length_ratio': 0.8713318976418384, 'translation_length': 227388, 'reference_length': 260966, 'meteor': 0.3426359846406747, 'rouge1': 0.3939163931719838, 'rouge2': 0.17510816481988403, 'rougeL': 0.32218582782992855, 'rougeLsum': 0.3221126275849232}\n",
      "Generating for the context length: 400\n"
     ]
    },
    {
     "name": "stderr",
     "output_type": "stream",
     "text": [
      "100%|██████████| 945/945 [54:57<00:00,  3.49s/it]  \n"
     ]
    },
    {
     "name": "stdout",
     "output_type": "stream",
     "text": [
      "Done\n",
      "{'bleu': 0.11810363244987812, 'precisions': [0.42988977863177424, 0.170772777666962, 0.09136354956692894, 0.052875767865011275], 'brevity_penalty': 0.8606209264480026, 'length_ratio': 0.8694887456603542, 'translation_length': 226907, 'reference_length': 260966, 'meteor': 0.3435556450371961, 'rouge1': 0.39503616497088156, 'rouge2': 0.1764164517257355, 'rougeL': 0.3228410975312511, 'rougeLsum': 0.32274321059625116}\n",
      "Generating for the context length: 500\n"
     ]
    },
    {
     "name": "stderr",
     "output_type": "stream",
     "text": [
      "100%|██████████| 945/945 [1:01:48<00:00,  3.92s/it]\n"
     ]
    },
    {
     "name": "stdout",
     "output_type": "stream",
     "text": [
      "Done\n",
      "{'bleu': 0.11776022518819838, 'precisions': [0.43095652941046736, 0.17105367017843628, 0.09105701416899876, 0.05243820801959492], 'brevity_penalty': 0.8597394398761952, 'length_ratio': 0.8687146984664669, 'translation_length': 226705, 'reference_length': 260966, 'meteor': 0.3434435377556876, 'rouge1': 0.3951613255660041, 'rouge2': 0.1764529644897777, 'rougeL': 0.3230888548815952, 'rougeLsum': 0.32305850465656594}\n",
      "Generating for the context length: 600\n"
     ]
    },
    {
     "name": "stderr",
     "output_type": "stream",
     "text": [
      "100%|██████████| 945/945 [1:05:10<00:00,  4.14s/it]\n"
     ]
    },
    {
     "name": "stdout",
     "output_type": "stream",
     "text": [
      "Done\n",
      "{'bleu': 0.11722327853021175, 'precisions': [0.42985336056050416, 0.17019778590949095, 0.0903420090342009, 0.0517435902743994], 'brevity_penalty': 0.8620029054959953, 'length_ratio': 0.8707034632864051, 'translation_length': 227224, 'reference_length': 260966, 'meteor': 0.3432064956624229, 'rouge1': 0.39475088064300984, 'rouge2': 0.1760622468788845, 'rougeL': 0.32261314254736095, 'rougeLsum': 0.32252878573133154}\n",
      "Generating for the context length: 700\n"
     ]
    },
    {
     "name": "stderr",
     "output_type": "stream",
     "text": [
      "100%|██████████| 945/945 [1:07:32<00:00,  4.29s/it]\n"
     ]
    },
    {
     "name": "stdout",
     "output_type": "stream",
     "text": [
      "Done\n",
      "{'bleu': 0.11663778812401596, 'precisions': [0.4286631599317418, 0.16933132134161583, 0.08979795216507738, 0.05127475823550706], 'brevity_penalty': 0.862647557793925, 'length_ratio': 0.8712705869730156, 'translation_length': 227372, 'reference_length': 260966, 'meteor': 0.3423776366003322, 'rouge1': 0.39386609975080156, 'rouge2': 0.17522644619408478, 'rougeL': 0.32161319608822175, 'rougeLsum': 0.3215174418373331}\n"
     ]
    }
   ],
   "source": []
  },
  {
   "cell_type": "code",
   "execution_count": 8,
   "metadata": {},
   "outputs": [
    {
     "name": "stdout",
     "output_type": "stream",
     "text": [
      "Generating for the context length: 70\n"
     ]
    },
    {
     "name": "stderr",
     "output_type": "stream",
     "text": [
      "100%|██████████| 945/945 [34:06<00:00,  2.17s/it] \n"
     ]
    },
    {
     "name": "stdout",
     "output_type": "stream",
     "text": [
      "Done\n",
      "{'bleu': 0.09790852957555751, 'precisions': [0.38666570447377246, 0.13750507271259682, 0.06935487658814965, 0.038353541166431845], 'brevity_penalty': 0.8978138834008965, 'length_ratio': 0.9026961366614809, 'translation_length': 235573, 'reference_length': 260966, 'meteor': 0.311213913533376, 'rouge1': 0.3583979171513669, 'rouge2': 0.1468928820952023, 'rougeL': 0.2895044686273106, 'rougeLsum': 0.2894119411256414}\n",
      "Generating for the context length: 100\n"
     ]
    },
    {
     "name": "stderr",
     "output_type": "stream",
     "text": [
      "100%|██████████| 945/945 [35:20<00:00,  2.24s/it]\n"
     ]
    },
    {
     "name": "stdout",
     "output_type": "stream",
     "text": [
      "Done\n",
      "{'bleu': 0.10664829981705916, 'precisions': [0.4033057426793464, 0.15041381792011516, 0.07766392082887016, 0.04382625768837778], 'brevity_penalty': 0.8896823525297948, 'length_ratio': 0.8953426883195512, 'translation_length': 233654, 'reference_length': 260966, 'meteor': 0.3260664197075103, 'rouge1': 0.37452467345345963, 'rouge2': 0.15935492013006633, 'rougeL': 0.3035347302941621, 'rougeLsum': 0.3034528449599872}\n",
      "Generating for the context length: 200\n"
     ]
    },
    {
     "name": "stderr",
     "output_type": "stream",
     "text": [
      "100%|██████████| 945/945 [41:36<00:00,  2.64s/it] \n"
     ]
    },
    {
     "name": "stdout",
     "output_type": "stream",
     "text": [
      "Done\n",
      "{'bleu': 0.11750724691951889, 'precisions': [0.42545967042497834, 0.16779619275218227, 0.08899063155262298, 0.05081943865146136], 'brevity_penalty': 0.876619218597508, 'length_ratio': 0.8836400144080072, 'translation_length': 230600, 'reference_length': 260966, 'meteor': 0.3450049269432372, 'rouge1': 0.39363944073565926, 'rouge2': 0.1750110804618783, 'rougeL': 0.3216178154973085, 'rougeLsum': 0.32146277399903833}\n",
      "Generating for the context length: 300\n"
     ]
    },
    {
     "name": "stderr",
     "output_type": "stream",
     "text": [
      " 51%|█████     | 484/945 [24:47<21:39,  2.82s/it] "
     ]
    }
   ],
   "source": []
  },
  {
   "cell_type": "code",
   "execution_count": 10,
   "metadata": {},
   "outputs": [
    {
     "name": "stdout",
     "output_type": "stream",
     "text": [
      "Generating for the context length: 70\n"
     ]
    },
    {
     "name": "stderr",
     "output_type": "stream",
     "text": [
      "100%|██████████| 945/945 [35:23<00:00,  2.25s/it] \n"
     ]
    },
    {
     "name": "stdout",
     "output_type": "stream",
     "text": [
      "Done\n",
      "{'bleu': 0.09807148092036545, 'precisions': [0.3992554758691261, 0.1441677345070292, 0.07291697295813854, 0.04032793690327937], 'brevity_penalty': 0.8598136500896202, 'length_ratio': 0.868779841052091, 'translation_length': 226722, 'reference_length': 260966, 'meteor': 0.3118438243077101, 'rouge1': 0.36306232062789434, 'rouge2': 0.14993312151411836, 'rougeL': 0.29462414304413453, 'rougeLsum': 0.2946266954059569}\n",
      "Generating for the context length: 100\n"
     ]
    },
    {
     "name": "stderr",
     "output_type": "stream",
     "text": [
      "100%|██████████| 945/945 [34:34<00:00,  2.20s/it] \n"
     ]
    },
    {
     "name": "stdout",
     "output_type": "stream",
     "text": [
      "Done\n",
      "{'bleu': 0.10493294308065042, 'precisions': [0.4136273703399062, 0.1547843675233284, 0.07979846425410513, 0.04505717263884597], 'brevity_penalty': 0.8518990716995946, 'length_ratio': 0.8618555673919208, 'translation_length': 224915, 'reference_length': 260966, 'meteor': 0.3234253931411736, 'rouge1': 0.3753577716427966, 'rouge2': 0.16003048841535605, 'rougeL': 0.3057567993299293, 'rougeLsum': 0.30564745400788074}\n",
      "Generating for the context length: 200\n"
     ]
    },
    {
     "name": "stderr",
     "output_type": "stream",
     "text": [
      "100%|██████████| 945/945 [40:44<00:00,  2.59s/it] \n"
     ]
    },
    {
     "name": "stdout",
     "output_type": "stream",
     "text": [
      "Done\n",
      "{'bleu': 0.11425859485906695, 'precisions': [0.42791195407857147, 0.16860059244165204, 0.08962475706383614, 0.051712299826763], 'brevity_penalty': 0.844948110155386, 'length_ratio': 0.8558126345960777, 'translation_length': 223338, 'reference_length': 260966, 'meteor': 0.33743452313988714, 'rouge1': 0.38917384111568976, 'rouge2': 0.17325719401048212, 'rougeL': 0.318439060862013, 'rougeLsum': 0.3184195108194423}\n",
      "Generating for the context length: 300\n"
     ]
    },
    {
     "name": "stderr",
     "output_type": "stream",
     "text": [
      "100%|██████████| 945/945 [48:02<00:00,  3.05s/it]  \n"
     ]
    },
    {
     "name": "stdout",
     "output_type": "stream",
     "text": [
      "Done\n",
      "{'bleu': 0.11608114937730499, 'precisions': [0.4337649156371116, 0.17209170274682375, 0.09172954135229323, 0.052759624099604066], 'brevity_penalty': 0.8419869929414174, 'length_ratio': 0.8532490822559261, 'translation_length': 222669, 'reference_length': 260966, 'meteor': 0.3411440721656123, 'rouge1': 0.3934062110447026, 'rouge2': 0.17612771096375035, 'rougeL': 0.3229750760710789, 'rougeLsum': 0.3228282209872626}\n",
      "Generating for the context length: 400\n"
     ]
    },
    {
     "name": "stderr",
     "output_type": "stream",
     "text": [
      "100%|██████████| 945/945 [54:39<00:00,  3.47s/it]  \n"
     ]
    },
    {
     "name": "stdout",
     "output_type": "stream",
     "text": [
      "Done\n",
      "{'bleu': 0.1167485877592128, 'precisions': [0.43476927517408087, 0.17334435984448818, 0.09292804468824724, 0.05383148497341984], 'brevity_penalty': 0.8378450454460028, 'length_ratio': 0.8496739038801989, 'translation_length': 221736, 'reference_length': 260966, 'meteor': 0.3412216699978226, 'rouge1': 0.3936639053450192, 'rouge2': 0.17737029734817564, 'rougeL': 0.3233846297737608, 'rougeLsum': 0.32327174322026553}\n",
      "Generating for the context length: 500\n"
     ]
    },
    {
     "name": "stderr",
     "output_type": "stream",
     "text": [
      " 73%|███████▎  | 687/945 [45:14<18:04,  4.20s/it]  "
     ]
    }
   ],
   "source": []
  },
  {
   "cell_type": "code",
   "execution_count": 30,
   "metadata": {},
   "outputs": [
    {
     "name": "stdout",
     "output_type": "stream",
     "text": [
      "Generating for the context length: 200\n"
     ]
    },
    {
     "name": "stderr",
     "output_type": "stream",
     "text": [
      "100%|██████████| 945/945 [08:19<00:00,  1.89it/s]\n"
     ]
    },
    {
     "name": "stdout",
     "output_type": "stream",
     "text": [
      "Done\n",
      "{'bleu': 0.12346216754890589, 'precisions': [0.4375689199934979, 0.1776036248468456, 0.09612053612814771, 0.05588868746029532], 'brevity_penalty': 0.863722634039824, 'length_ratio': 0.8722170704229669, 'translation_length': 227619, 'reference_length': 260966, 'meteor': 0.35359416748473077, 'rouge1': 0.40248422610308543, 'rouge2': 0.18328221126363148, 'rougeL': 0.33009269996078755, 'rougeLsum': 0.3300614517511684}\n",
      "Generating for the context length: 720\n"
     ]
    },
    {
     "name": "stderr",
     "output_type": "stream",
     "text": [
      "100%|██████████| 945/945 [10:18<00:00,  1.53it/s]\n"
     ]
    },
    {
     "name": "stdout",
     "output_type": "stream",
     "text": [
      "Done\n",
      "{'bleu': 0.1257888249451646, 'precisions': [0.4377841740444545, 0.1791020085562382, 0.09760767869694839, 0.05722976542823581], 'brevity_penalty': 0.8695117278704764, 'length_ratio': 0.8773288474360644, 'translation_length': 228953, 'reference_length': 260966, 'meteor': 0.3565514119827842, 'rouge1': 0.4047119203068985, 'rouge2': 0.185856595769887, 'rougeL': 0.332006465804801, 'rougeLsum': 0.33195165056651943}\n",
      "Generating for the context length: 650\n"
     ]
    },
    {
     "name": "stderr",
     "output_type": "stream",
     "text": [
      "100%|██████████| 945/945 [10:16<00:00,  1.53it/s]\n"
     ]
    },
    {
     "name": "stdout",
     "output_type": "stream",
     "text": [
      "Done\n",
      "{'bleu': 0.1256403068872618, 'precisions': [0.4381767948566864, 0.17878675170700573, 0.09728983506502943, 0.05701369989390655], 'brevity_penalty': 0.8702041264108997, 'length_ratio': 0.8779419541242921, 'translation_length': 229113, 'reference_length': 260966, 'meteor': 0.3563541597980937, 'rouge1': 0.4050806838364527, 'rouge2': 0.18561721029291084, 'rougeL': 0.3319262324656158, 'rougeLsum': 0.33192334002381724}\n",
      "Generating for the context length: 350\n"
     ]
    },
    {
     "name": "stderr",
     "output_type": "stream",
     "text": [
      "100%|██████████| 945/945 [09:11<00:00,  1.71it/s]\n"
     ]
    },
    {
     "name": "stdout",
     "output_type": "stream",
     "text": [
      "Done\n",
      "{'bleu': 0.1257626122759007, 'precisions': [0.4382902891885163, 0.17890146449955657, 0.09765710213638545, 0.05715340935321546], 'brevity_penalty': 0.8695030702543955, 'length_ratio': 0.8773211836024616, 'translation_length': 228951, 'reference_length': 260966, 'meteor': 0.3562012415308598, 'rouge1': 0.4047128146167146, 'rouge2': 0.18550529759109602, 'rougeL': 0.33186920040252776, 'rougeLsum': 0.3318646742987025}\n",
      "Generating for the context length: 100\n"
     ]
    },
    {
     "name": "stderr",
     "output_type": "stream",
     "text": [
      "100%|██████████| 945/945 [07:49<00:00,  2.01it/s]\n"
     ]
    },
    {
     "name": "stdout",
     "output_type": "stream",
     "text": [
      "Done\n",
      "{'bleu': 0.11964712510107044, 'precisions': [0.4326436377229051, 0.17240038692776577, 0.0924841374122612, 0.05362138236647655], 'brevity_penalty': 0.8627477081454109, 'length_ratio': 0.8713587210594483, 'translation_length': 227395, 'reference_length': 260966, 'meteor': 0.3474841689817138, 'rouge1': 0.39724258276498764, 'rouge2': 0.17816489836175736, 'rougeL': 0.32460150343422817, 'rougeLsum': 0.32467930362884756}\n"
     ]
    }
   ],
   "source": []
  },
  {
   "cell_type": "code",
   "execution_count": 11,
   "metadata": {},
   "outputs": [
    {
     "name": "stderr",
     "output_type": "stream",
     "text": [
      "100%|██████████| 945/945 [08:28<00:00,  1.86it/s]\n"
     ]
    }
   ],
   "source": [
    "base_output = generate()"
   ]
  },
  {
   "cell_type": "code",
   "execution_count": 17,
   "metadata": {},
   "outputs": [
    {
     "name": "stderr",
     "output_type": "stream",
     "text": [
      "100%|██████████| 945/945 [10:04<00:00,  1.56it/s]\n"
     ]
    }
   ],
   "source": [
    "generator.model.context_max_len= 800\n",
    "generator.model.encoder.context_max_len= 800\n",
    "base_output8 = generate()"
   ]
  },
  {
   "cell_type": "code",
   "execution_count": 18,
   "metadata": {},
   "outputs": [
    {
     "name": "stderr",
     "output_type": "stream",
     "text": [
      "100%|██████████| 945/945 [10:02<00:00,  1.57it/s]\n"
     ]
    }
   ],
   "source": [
    "generator.model.context_max_len= 600\n",
    "generator.model.encoder.context_max_len= 600\n",
    "base_output6 = generate()"
   ]
  },
  {
   "cell_type": "code",
   "execution_count": 19,
   "metadata": {},
   "outputs": [
    {
     "name": "stderr",
     "output_type": "stream",
     "text": [
      "100%|██████████| 945/945 [09:30<00:00,  1.66it/s]\n"
     ]
    }
   ],
   "source": [
    "generator.model.context_max_len= 450\n",
    "generator.model.encoder.context_max_len= 450\n",
    "base_output45 = generate()"
   ]
  },
  {
   "cell_type": "code",
   "execution_count": 10,
   "metadata": {},
   "outputs": [],
   "source": [
    "#os.makedirs(\"outputs/multi_context/\")"
   ]
  },
  {
   "cell_type": "code",
   "execution_count": 25,
   "metadata": {},
   "outputs": [
    {
     "name": "stdout",
     "output_type": "stream",
     "text": [
      "Done\n"
     ]
    }
   ],
   "source": [
    "#context_enforcement/data/common.py\n",
    "\n",
    "write_to_file(base_output8[:len(test_dataset)], \n",
    "              \"outputs/multi_context/best_base_final_800\")"
   ]
  },
  {
   "cell_type": "code",
   "execution_count": 13,
   "metadata": {},
   "outputs": [],
   "source": []
  },
  {
   "cell_type": "code",
   "execution_count": 14,
   "metadata": {},
   "outputs": [
    {
     "data": {
      "text/plain": [
       "('Musician Koffi Olomide has been taken into custody in the Democratic Republic of Congo, days after he was deported from Kenya for allegedly kicking one of his dancers at an airport in Nairobi.',\n",
       " \"Uganda's Koffi Olomide has been arrested in the Democratic Republic of Congo over an alleged assault on one of his dancers.\")"
      ]
     },
     "execution_count": 14,
     "metadata": {},
     "output_type": "execute_result"
    }
   ],
   "source": [
    "targets[690],base_output[690]#,base_output_8[690],base_output_45[690]#output_summaries2[690],output_summaries[690],output_summaries6[690],output_summaries8[690]"
   ]
  },
  {
   "cell_type": "code",
   "execution_count": 27,
   "metadata": {},
   "outputs": [
    {
     "data": {
      "text/plain": [
       "{'bleu': 0.12420563480222273,\n",
       " 'precisions': [0.4381499894596304,\n",
       "  0.17908874941070982,\n",
       "  0.09682579940300837,\n",
       "  0.05619688787468894],\n",
       " 'brevity_penalty': 0.864057575751863,\n",
       " 'length_ratio': 0.8725121280166765,\n",
       " 'translation_length': 227696,\n",
       " 'reference_length': 260966,\n",
       " 'meteor': 0.35420455825818364,\n",
       " 'rouge1': 0.4026762188767841,\n",
       " 'rouge2': 0.18481796867562256,\n",
       " 'rougeL': 0.3305624212280963,\n",
       " 'rougeLsum': 0.3305498661301927}"
      ]
     },
     "execution_count": 27,
     "metadata": {},
     "output_type": "execute_result"
    }
   ],
   "source": [
    "scores = metrics.compute(predictions=base_output8,references=targets)\n",
    "scores"
   ]
  },
  {
   "cell_type": "code",
   "execution_count": 22,
   "metadata": {},
   "outputs": [
    {
     "data": {
      "text/plain": [
       "{'bleu': 0.12529167445320155,\n",
       " 'precisions': [0.43767581217045437,\n",
       "  0.1782170041154529,\n",
       "  0.0969340592861464,\n",
       "  0.056633434208437666],\n",
       " 'brevity_penalty': 0.8709825773070866,\n",
       " 'length_ratio': 0.8786316991485481,\n",
       " 'translation_length': 229293,\n",
       " 'reference_length': 260966,\n",
       " 'meteor': 0.35545882674212,\n",
       " 'rouge1': 0.4042558166707959,\n",
       " 'rouge2': 0.18471768845866826,\n",
       " 'rougeL': 0.3318399755379066,\n",
       " 'rougeLsum': 0.33182453398530987}"
      ]
     },
     "execution_count": 22,
     "metadata": {},
     "output_type": "execute_result"
    }
   ],
   "source": [
    "scores45 = metrics.compute(predictions=base_output45,\n",
    "                           references=targets)\n",
    "scores45"
   ]
  },
  {
   "cell_type": "code",
   "execution_count": 36,
   "metadata": {},
   "outputs": [
    {
     "data": {
      "text/plain": [
       "{'bleu': 0.1242693218959997,\n",
       " 'precisions': [0.4397112710255618,\n",
       "  0.17984347696769157,\n",
       "  0.09751670411397062,\n",
       "  0.05682880711450953],\n",
       " 'brevity_penalty': 0.8588878671603885,\n",
       " 'length_ratio': 0.8679674746901895,\n",
       " 'translation_length': 226510,\n",
       " 'reference_length': 260966,\n",
       " 'meteor': 0.3532861459937222,\n",
       " 'rouge1': 0.4033676736623957,\n",
       " 'rouge2': 0.18549005001850066,\n",
       " 'rougeL': 0.3313132654462809,\n",
       " 'rougeLsum': 0.3313118204210047}"
      ]
     },
     "execution_count": 36,
     "metadata": {},
     "output_type": "execute_result"
    }
   ],
   "source": [
    "{'bleu': 0.13001522827171397,\n",
    " 'precisions': [0.43264780948765,\n",
    "  0.17764752271710285,\n",
    "  0.09726789720912225,\n",
    "  0.057229256856921935],\n",
    " 'brevity_penalty': 0.90401138133862,\n",
    " 'length_ratio': 0.9083367181931746,\n",
    " 'translation_length': 237045,\n",
    " 'reference_length': 260966,\n",
    " 'meteor': 0.3623311725177827,\n",
    " 'rouge1': 0.40646161409356885,\n",
    " 'rouge2': 0.18746257090958113,\n",
    " 'rougeL': 0.3322105156464427,\n",
    " 'rougeLsum': 20.3334181119671774}"
   ]
  },
  {
   "cell_type": "code",
   "execution_count": 17,
   "metadata": {},
   "outputs": [
    {
     "data": {
      "text/plain": [
       "{'bleu': 0.12215108883184916,\n",
       " 'precisions': [0.42916968255609556,\n",
       "  0.17216560221044527,\n",
       "  0.0922525258312802,\n",
       "  0.0537097051014124],\n",
       " 'brevity_penalty': 0.8830712157727976,\n",
       " 'length_ratio': 0.8894032172773465,\n",
       " 'translation_length': 232104,\n",
       " 'reference_length': 260966,\n",
       " 'meteor': 0.35137424074129014,\n",
       " 'rouge1': 0.398632967632497,\n",
       " 'rouge2': 0.1799538886903405,\n",
       " 'rougeL': 0.32609557084990337,\n",
       " 'rougeLsum': 0.32622241066447516}"
      ]
     },
     "execution_count": 17,
     "metadata": {},
     "output_type": "execute_result"
    }
   ],
   "source": [
    "scores"
   ]
  },
  {
   "cell_type": "code",
   "execution_count": 24,
   "metadata": {},
   "outputs": [
    {
     "data": {
      "text/plain": [
       "{'bleu': 0.12300035067772054,\n",
       " 'precisions': [0.4394282548476454,\n",
       "  0.1790089177800281,\n",
       "  0.09666579620313663,\n",
       "  0.056324136455435936],\n",
       " 'brevity_penalty': 0.8550152182505472,\n",
       " 'length_ratio': 0.8645762283209307,\n",
       " 'translation_length': 225625,\n",
       " 'reference_length': 260966,\n",
       " 'meteor': 0.35146299353791816,\n",
       " 'rouge1': 0.4017681486403819,\n",
       " 'rouge2': 0.18375560820687226,\n",
       " 'rougeL': 0.32963068346151203,\n",
       " 'rougeLsum': 0.3296792225053877}"
      ]
     },
     "execution_count": 24,
     "metadata": {},
     "output_type": "execute_result"
    }
   ],
   "source": [
    "scores4"
   ]
  },
  {
   "cell_type": "code",
   "execution_count": 18,
   "metadata": {},
   "outputs": [
    {
     "data": {
      "text/plain": [
       "{'bleu': 0.12202486703008819,\n",
       " 'precisions': [0.43851006174759005,\n",
       "  0.17777018935708405,\n",
       "  0.09596328825046187,\n",
       "  0.05604684262301944],\n",
       " 'brevity_penalty': 0.8527557381282802,\n",
       " 'length_ratio': 0.8626027911681982,\n",
       " 'translation_length': 225110,\n",
       " 'reference_length': 260966,\n",
       " 'meteor': 0.3498951876777049,\n",
       " 'rouge1': 0.40069971264338244,\n",
       " 'rouge2': 0.18265325890345102,\n",
       " 'rougeL': 0.3290151413411355,\n",
       " 'rougeLsum': 0.3290728012119742}"
      ]
     },
     "execution_count": 18,
     "metadata": {},
     "output_type": "execute_result"
    }
   ],
   "source": [
    "scores5"
   ]
  },
  {
   "cell_type": "code",
   "execution_count": 7,
   "metadata": {},
   "outputs": [
    {
     "name": "stderr",
     "output_type": "stream",
     "text": [
      "Token indices sequence length is longer than the specified maximum sequence length for this model (1327 > 1024). Running this sequence through the model will result in indexing errors\n"
     ]
    }
   ],
   "source": [
    "targets = [tokenizer.decode(c.labels,clean_up_tokenization_spaces=True,skip_special_tokens=True) for c in test_dataset]"
   ]
  },
  {
   "cell_type": "code",
   "execution_count": 1,
   "metadata": {},
   "outputs": [
    {
     "name": "stderr",
     "output_type": "stream",
     "text": [
      "/home/nlplab/anaconda3/envs/development/lib/python3.9/site-packages/tqdm/auto.py:21: TqdmWarning: IProgress not found. Please update jupyter and ipywidgets. See https://ipywidgets.readthedocs.io/en/stable/user_install.html\n",
      "  from .autonotebook import tqdm as notebook_tqdm\n"
     ]
    }
   ],
   "source": [
    "from context_enforcement.data.common import write_to_file,read_sentences\n",
    "import evaluate\n",
    "metrics = evaluate.combine([\"rouge\"])"
   ]
  },
  {
   "cell_type": "code",
   "execution_count": 15,
   "metadata": {},
   "outputs": [
    {
     "name": "stderr",
     "output_type": "stream",
     "text": [
      "[nltk_data] Downloading package wordnet to /home/nlplab/nltk_data...\n",
      "[nltk_data]   Package wordnet is already up-to-date!\n",
      "[nltk_data] Downloading package punkt to /home/nlplab/nltk_data...\n",
      "[nltk_data]   Package punkt is already up-to-date!\n",
      "[nltk_data] Downloading package omw-1.4 to /home/nlplab/nltk_data...\n",
      "[nltk_data]   Package omw-1.4 is already up-to-date!\n"
     ]
    }
   ],
   "source": [
    "import numpy as np\n",
    "\n",
    "metrics = evaluate.combine([\"bleu\",\"meteor\",\"rouge\"])\n",
    "def compute_scores(predicted,targets):\n",
    "        # Rouge expects a newline after each sentence\n",
    "        decoded_preds = [\"\\n\".join(nltk.sent_tokenize(pred.strip())) for pred in predicted]\n",
    "        decoded_labels = [\"\\n\".join(nltk.sent_tokenize(label.strip())) for label in targets]\n",
    "        \n",
    "        result = metrics.compute(predictions=decoded_preds, references=decoded_labels, use_stemmer=True)\n",
    "        result2= metrics.compute(predictions=predicted, references=targets, use_stemmer=True)\n",
    "        print(result)\n",
    "        print(result2)\n",
    "        # Extract a few results\n",
    "        # result = {key: value.mid.fmeasure * 100 for key, value in result.items()}\n",
    "    \n",
    "        \n",
    "        return {k: round(v, 4) if type(v) is not list else [round(j,4) for j in v] for k, v in result.items() }"
   ]
  },
  {
   "cell_type": "code",
   "execution_count": 20,
   "metadata": {},
   "outputs": [
    {
     "name": "stdout",
     "output_type": "stream",
     "text": [
      "huggingface/tokenizers: The current process just got forked, after parallelism has already been used. Disabling parallelism to avoid deadlocks...\n",
      "To disable this warning, you can either:\n",
      "\t- Avoid using `tokenizers` before the fork if possible\n",
      "\t- Explicitly set the environment variable TOKENIZERS_PARALLELISM=(true | false)\n",
      "best_base_final_100.txt  best_base_final_350.txt  best_base_final_720.txt\n",
      "best_base_final_200.txt  best_base_final_650.txt\n"
     ]
    }
   ],
   "source": [
    "!ls outputs/bart-context-enforcer-form1/"
   ]
  },
  {
   "cell_type": "code",
   "execution_count": 24,
   "metadata": {},
   "outputs": [],
   "source": [
    "output_path = \"outputs/bart-context-enforcer-form1/best_base_final_720.txt\"\n",
    "# 'outputs/bart-new-crossed-context/best-22317/generated_with_contextlen_200.txt'\n",
    "generated = read_sentences(output_path)"
   ]
  },
  {
   "cell_type": "code",
   "execution_count": 25,
   "metadata": {},
   "outputs": [
    {
     "data": {
      "text/plain": [
       "(\"Queen's University Belfast is cutting 236 jobs and 290 student places due to a funding reduction.\",\n",
       " \"Queen's University in Belfast has announced that it is to cut 1,000 places from its undergraduate programme.\")"
      ]
     },
     "execution_count": 25,
     "metadata": {},
     "output_type": "execute_result"
    }
   ],
   "source": [
    "targets[10],generated[10]"
   ]
  },
  {
   "cell_type": "code",
   "execution_count": 26,
   "metadata": {},
   "outputs": [
    {
     "name": "stdout",
     "output_type": "stream",
     "text": [
      "{'bleu': 0.1163854023017978, 'precisions': [0.4289432127954267, 0.1694927845773824, 0.08983130593320852, 0.05142083194951843], 'brevity_penalty': 0.8597438053136334, 'length_ratio': 0.8687185303832683, 'translation_length': 226706, 'reference_length': 260966, 'meteor': 0.34131548674181444, 'rouge1': 0.3922485320513707, 'rouge2': 0.17461115191191878, 'rougeL': 0.32054913763670956, 'rougeLsum': 0.3203804065058225}\n",
      "{'bleu': 0.1163854023017978, 'precisions': [0.4289432127954267, 0.1694927845773824, 0.08983130593320852, 0.05142083194951843], 'brevity_penalty': 0.8597438053136334, 'length_ratio': 0.8687185303832683, 'translation_length': 226706, 'reference_length': 260966, 'meteor': 0.34131548674181444, 'rouge1': 0.3922485320513707, 'rouge2': 0.17461115191191878, 'rougeL': 0.32054913763670956, 'rougeLsum': 0.3203804065058225}\n"
     ]
    },
    {
     "data": {
      "text/plain": [
       "{'bleu': 0.1164,\n",
       " 'precisions': [0.4289, 0.1695, 0.0898, 0.0514],\n",
       " 'brevity_penalty': 0.8597,\n",
       " 'length_ratio': 0.8687,\n",
       " 'translation_length': 226706,\n",
       " 'reference_length': 260966,\n",
       " 'meteor': 0.3413,\n",
       " 'rouge1': 0.3922,\n",
       " 'rouge2': 0.1746,\n",
       " 'rougeL': 0.3205,\n",
       " 'rougeLsum': 0.3204}"
      ]
     },
     "execution_count": 26,
     "metadata": {},
     "output_type": "execute_result"
    }
   ],
   "source": [
    "compute_scores(generated,targets)"
   ]
  }
 ],
 "metadata": {
  "kernelspec": {
   "display_name": "development",
   "language": "python",
   "name": "python3"
  },
  "language_info": {
   "codemirror_mode": {
    "name": "ipython",
    "version": 3
   },
   "file_extension": ".py",
   "mimetype": "text/x-python",
   "name": "python",
   "nbconvert_exporter": "python",
   "pygments_lexer": "ipython3",
   "version": "3.9.16"
  },
  "orig_nbformat": 4
 },
 "nbformat": 4,
 "nbformat_minor": 2
}
