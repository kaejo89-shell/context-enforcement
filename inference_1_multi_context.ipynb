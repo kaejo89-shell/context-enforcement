{
 "cells": [
  {
   "cell_type": "code",
   "execution_count": 1,
   "metadata": {},
   "outputs": [
    {
     "name": "stderr",
     "output_type": "stream",
     "text": [
      "Global seed set to 1376\n",
      "[nltk_data] Downloading package punkt to /home/nlplab/nltk_data...\n",
      "[nltk_data]   Package punkt is already up-to-date!\n",
      "Global seed set to 1376\n"
     ]
    },
    {
     "data": {
      "text/plain": [
       "1376"
      ]
     },
     "execution_count": 1,
     "metadata": {},
     "output_type": "execute_result"
    }
   ],
   "source": [
    "#https://github.com/amazon-science/efficient-longdoc-classification\n",
    "from functools import partial\n",
    "import nltk\n",
    "import pickle as pk\n",
    "import torch\n",
    "from context_enforcement.models.context_enforcer import compute_context_boundary\n",
    "from context_enforcement.trainers.train_bart import model_init\n",
    "from context_enforcement.data.common import create_text_tokenizer, SmartCollator\n",
    "from context_enforcement.trainers.common import get_dataset_specified_tasks\n",
    "from pytorch_lightning import seed_everything\n",
    "\n",
    "import sys\n",
    "import os\n",
    "os.environ[\"CUDA_VISIBLE_DEVICES\"] = \"0\"\n",
    "seed_everything(1376)"
   ]
  },
  {
   "cell_type": "code",
   "execution_count": 2,
   "metadata": {},
   "outputs": [
    {
     "data": {
      "text/plain": [
       "device(type='cuda', index=0)"
      ]
     },
     "execution_count": 2,
     "metadata": {},
     "output_type": "execute_result"
    }
   ],
   "source": [
    "z=torch.ones((1,2),dtype=torch.long,device='cuda')\n",
    "z.device"
   ]
  },
  {
   "cell_type": "code",
   "execution_count": 13,
   "metadata": {},
   "outputs": [
    {
     "data": {
      "text/plain": [
       "Namespace(is_baseline=False, model_base='facebook/bart-base', output_dir='trained_models_sum_boundary/', task_type='xsum', run_id='bart_base_model_context_enforcer_250', eval_steps=1000, learning_rate=5e-05, max_seq_len=800, evaluation_strategy='epoch', save_strategy='epoch', seed=10, lr_scheduler_type='linear', weight_decay=0.0, warmup_ratio=0.25, num_train_epochs=10, save_total_limit=1, per_device_train_batch_size=12, per_device_eval_batch_size=12, gradient_accumulation_steps=4, fp16=True, verbose=False, context_max_len=250)"
      ]
     },
     "execution_count": 13,
     "metadata": {},
     "output_type": "execute_result"
    }
   ],
   "source": [
    "configs"
   ]
  },
  {
   "cell_type": "code",
   "execution_count": 2,
   "metadata": {},
   "outputs": [],
   "source": [
    "configs= pk.load(open(\"trained_models_sum_boundary/bart_base_model_context_enforcer_250/train_args.ap\",'rb'))\n",
    "context_max_len=configs.context_max_len\n",
    "context_max_len_list = [context_max_len]#,300,450]\n",
    "context_sampling_bounds=(0.1, 0.45)"
   ]
  },
  {
   "cell_type": "code",
   "execution_count": 18,
   "metadata": {},
   "outputs": [
    {
     "data": {
      "text/plain": [
       "'xsum'"
      ]
     },
     "execution_count": 18,
     "metadata": {},
     "output_type": "execute_result"
    }
   ],
   "source": [
    "configs.task_type"
   ]
  },
  {
   "cell_type": "code",
   "execution_count": 16,
   "metadata": {},
   "outputs": [],
   "source": []
  },
  {
   "cell_type": "code",
   "execution_count": 3,
   "metadata": {},
   "outputs": [
    {
     "name": "stderr",
     "output_type": "stream",
     "text": [
      "Found cached dataset xsum (/home/nlplab/.cache/huggingface/datasets/xsum/default/1.2.0/082863bf4754ee058a5b6f6525d0cb2b18eadb62c7b370b095d1364050a52b71)\n"
     ]
    },
    {
     "data": {
      "application/vnd.jupyter.widget-view+json": {
       "model_id": "194737882721482a9012a9e5ef6b6cbd",
       "version_major": 2,
       "version_minor": 0
      },
      "text/plain": [
       "  0%|          | 0/3 [00:00<?, ?it/s]"
      ]
     },
     "metadata": {},
     "output_type": "display_data"
    }
   ],
   "source": [
    "tokenizer = create_text_tokenizer(configs.model_base)\n",
    "\n",
    "task_dataset_gen = get_dataset_specified_tasks(configs.task_type)\n",
    "\n",
    "train_dataset = None\n",
    "eval_dataset = None\n",
    "test_dataset = None\n",
    "if task_dataset_gen is not None:\n",
    "    raw_dataset = task_dataset_gen(tokenizer=tokenizer, )\n",
    "    train_dataset = raw_dataset['train']\n",
    "    eval_dataset = raw_dataset['validation']\n",
    "    test_dataset = raw_dataset['test']\n",
    "\n",
    "model_builder = model_init(\n",
    "        vocab_size=len(train_dataset.tokenizer),\n",
    "        model_base=configs.model_base,\n",
    "        context_max_len = context_max_len,\n",
    "        context_sampling_bounds = context_sampling_bounds,\n",
    "        context_max_len_list= context_max_len_list,#is_baseline=True\n",
    "    )"
   ]
  },
  {
   "cell_type": "code",
   "execution_count": null,
   "metadata": {},
   "outputs": [],
   "source": []
  },
  {
   "cell_type": "code",
   "execution_count": 4,
   "metadata": {},
   "outputs": [
    {
     "name": "stderr",
     "output_type": "stream",
     "text": [
      "Some weights of BartForContextualRecovery were not initialized from the model checkpoint at facebook/bart-base and are newly initialized: ['encoder.layers.2.context_enforcer._left_mha.out_proj.weight', 'encoder.layers.1.context_enforcer._left_mha.in_proj_weight', 'encoder.layers.4.context_enforcer._right_mha.out_proj.bias', 'encoder.layers.0.context_enforcer._wlc.weight', 'encoder.layers.4.context_enforcer._left_mha.out_proj.weight', 'encoder.layers.3.context_enforcer._wlc.bias', 'encoder.layers.3.context_enforcer._wrc.bias', 'encoder.layers.3.context_enforcer_layer_norm.weight', 'encoder.layers.1.context_enforcer._left_mha.in_proj_bias', 'encoder.layers.5.context_enforcer._right_mha.out_proj.bias', 'encoder.layers.4.context_enforcer_layer_norm.bias', 'encoder.layers.1.context_enforcer._wrc.weight', 'encoder.layers.2.context_enforcer._wlc.bias', 'encoder.layers.3.context_enforcer._right_mha.out_proj.bias', 'encoder.layers.4.context_enforcer._left_mha.in_proj_weight', 'encoder.layers.0.context_enforcer._right_mha.out_proj.weight', 'encoder.layers.5.context_enforcer._left_mha.in_proj_bias', 'encoder.layers.5.context_enforcer._wlc.weight', 'encoder.layers.3.context_enforcer._wlc.weight', 'encoder.layers.2.context_enforcer._wrc.weight', 'encoder.layers.2.context_enforcer._wlc.weight', 'encoder.layers.4.context_enforcer._wlc.weight', 'encoder.layers.5.context_enforcer._wlc.bias', 'encoder.layers.1.context_enforcer._wlc.bias', 'encoder.layers.0.context_enforcer_layer_norm.bias', 'encoder.layers.2.context_enforcer._right_mha.in_proj_bias', 'encoder.layers.0.context_enforcer_layer_norm.weight', 'encoder.layers.3.context_enforcer._right_mha.in_proj_weight', 'encoder.layers.5.context_enforcer._wrc.bias', 'encoder.layers.3.context_enforcer._left_mha.out_proj.bias', 'encoder.layers.2.context_enforcer._left_mha.in_proj_weight', 'encoder.layers.4.context_enforcer._left_mha.in_proj_bias', 'encoder.layers.3.context_enforcer._left_mha.out_proj.weight', 'encoder.layers.0.context_enforcer._wrc.bias', 'encoder.layers.2.context_enforcer._left_mha.in_proj_bias', 'encoder.layers.3.context_enforcer._wrc.weight', 'encoder.layers.0.context_enforcer._wlc.bias', 'encoder.layers.1.context_enforcer._right_mha.out_proj.weight', 'encoder.layers.4.context_enforcer._right_mha.out_proj.weight', 'encoder.layers.4.context_enforcer._left_mha.out_proj.bias', 'encoder.layers.3.context_enforcer_layer_norm.bias', 'encoder.layers.0.context_enforcer._left_mha.out_proj.weight', 'encoder.layers.1.context_enforcer._right_mha.out_proj.bias', 'encoder.layers.4.context_enforcer._wrc.bias', 'encoder.layers.3.context_enforcer._right_mha.out_proj.weight', 'encoder.layers.3.context_enforcer._left_mha.in_proj_bias', 'encoder.layers.0.context_enforcer._left_mha.in_proj_weight', 'encoder.layers.2.context_enforcer_layer_norm.weight', 'encoder.layers.1.context_enforcer_layer_norm.weight', 'encoder.layers.2.context_enforcer._right_mha.in_proj_weight', 'encoder.layers.5.context_enforcer._right_mha.out_proj.weight', 'encoder.layers.5.context_enforcer._right_mha.in_proj_weight', 'encoder.layers.1.context_enforcer._left_mha.out_proj.bias', 'encoder.layers.5.context_enforcer._right_mha.in_proj_bias', 'encoder.layers.4.context_enforcer._right_mha.in_proj_weight', 'encoder.layers.1.context_enforcer._wlc.weight', 'encoder.layers.1.context_enforcer._wrc.bias', 'encoder.layers.0.context_enforcer._right_mha.in_proj_bias', 'encoder.layers.0.context_enforcer._wrc.weight', 'encoder.layers.5.context_enforcer._left_mha.out_proj.weight', 'encoder.layers.5.context_enforcer._left_mha.in_proj_weight', 'encoder.layers.2.context_enforcer._right_mha.out_proj.weight', 'encoder.layers.0.context_enforcer._right_mha.out_proj.bias', 'encoder.layers.1.context_enforcer._right_mha.in_proj_weight', 'encoder.layers.5.context_enforcer_layer_norm.bias', 'encoder.layers.1.context_enforcer._left_mha.out_proj.weight', 'encoder.layers.2.context_enforcer._wrc.bias', 'encoder.layers.3.context_enforcer._left_mha.in_proj_weight', 'encoder.layers.1.context_enforcer_layer_norm.bias', 'encoder.layers.2.context_enforcer._left_mha.out_proj.bias', 'encoder.layers.0.context_enforcer._right_mha.in_proj_weight', 'encoder.layers.0.context_enforcer._left_mha.out_proj.bias', 'encoder.layers.5.context_enforcer._left_mha.out_proj.bias', 'encoder.layers.5.context_enforcer_layer_norm.weight', 'encoder.layers.4.context_enforcer._wlc.bias', 'encoder.layers.4.context_enforcer_layer_norm.weight', 'encoder.layers.2.context_enforcer._right_mha.out_proj.bias', 'encoder.layers.0.context_enforcer._left_mha.in_proj_bias', 'encoder.layers.1.context_enforcer._right_mha.in_proj_bias', 'encoder.layers.4.context_enforcer._right_mha.in_proj_bias', 'encoder.layers.3.context_enforcer._right_mha.in_proj_bias', 'encoder.layers.5.context_enforcer._wrc.weight', 'encoder.layers.4.context_enforcer._wrc.weight', 'encoder.layers.2.context_enforcer_layer_norm.bias']\n",
      "You should probably TRAIN this model on a down-stream task to be able to use it for predictions and inference.\n"
     ]
    }
   ],
   "source": [
    "generator = model_builder()\n",
    "train_model_path = \"trained_models_sum_boundary/bart_base_model_context_enforcer_multi/checkpoint-34008/pytorch_model.bin\"\n",
    "state_dict = torch.load(train_model_path)\n",
    "generator.load_state_dict(state_dict)\n",
    "device = torch.device(\"cuda\") if torch.cuda.is_available() else torch.device(\"cpu\")"
   ]
  },
  {
   "cell_type": "code",
   "execution_count": 5,
   "metadata": {},
   "outputs": [
    {
     "name": "stderr",
     "output_type": "stream",
     "text": [
      "Token indices sequence length is longer than the specified maximum sequence length for this model (1187 > 1024). Running this sequence through the model will result in indexing errors\n"
     ]
    }
   ],
   "source": [
    "te1= test_dataset[6]\n",
    "b_input_ids = te1.input_ids.view(1, -1).to(device)\n",
    "b_input_mask = te1.attention_mask.view(1, -1).to(device)"
   ]
  },
  {
   "cell_type": "code",
   "execution_count": 6,
   "metadata": {},
   "outputs": [
    {
     "name": "stderr",
     "output_type": "stream",
     "text": [
      "Global seed set to 1376\n"
     ]
    },
    {
     "data": {
      "text/plain": [
       "(264, 514)"
      ]
     },
     "execution_count": 6,
     "metadata": {},
     "output_type": "execute_result"
    }
   ],
   "source": [
    "seed_everything(1376)\n",
    "boundary_sample =  (0.1, 0.45)\n",
    "seq_len = te1.input_ids[:1024].shape[0]\n",
    "\n",
    "boundary_start = int(0.45*seq_len) \n",
    "context_boundary = compute_context_boundary(seq_len,context_max_len=context_max_len)\n",
    "context_boundary"
   ]
  },
  {
   "cell_type": "code",
   "execution_count": 7,
   "metadata": {},
   "outputs": [],
   "source": [
    "output = generator(input_ids=b_input_ids[:,:1000],\n",
    "                attention_mask=b_input_mask[:,:1000],\n",
    "                context_boundary=(10,200),\n",
    "                labels= te1.labels.view(1, -1).to(device)\n",
    "                )"
   ]
  },
  {
   "cell_type": "code",
   "execution_count": 11,
   "metadata": {},
   "outputs": [
    {
     "data": {
      "text/plain": [
       "torch.Size([1, 450, 768])"
      ]
     },
     "execution_count": 11,
     "metadata": {},
     "output_type": "execute_result"
    }
   ],
   "source": [
    "output.encoder_last_hidden_state.shape"
   ]
  },
  {
   "cell_type": "code",
   "execution_count": 29,
   "metadata": {},
   "outputs": [
    {
     "data": {
      "text/plain": [
       "(tensor(2.9335, device='cuda:0'),\n",
       " tensor(2.9335, device='cuda:0', grad_fn=<NllLossBackward0>))"
      ]
     },
     "execution_count": 29,
     "metadata": {},
     "output_type": "execute_result"
    }
   ],
   "source": [
    "torch.mean(torch.tensor([output['loss'],output['loss']],device = 'cuda',))"
   ]
  },
  {
   "cell_type": "code",
   "execution_count": null,
   "metadata": {},
   "outputs": [],
   "source": []
  },
  {
   "cell_type": "code",
   "execution_count": 12,
   "metadata": {},
   "outputs": [
    {
     "data": {
      "text/plain": [
       "tensor(True, device='cuda:0')"
      ]
     },
     "execution_count": 12,
     "metadata": {},
     "output_type": "execute_result"
    }
   ],
   "source": [
    "torch.all(output.logits==((output.logits+output.logits)/2))"
   ]
  },
  {
   "cell_type": "code",
   "execution_count": 12,
   "metadata": {},
   "outputs": [
    {
     "data": {
      "text/plain": [
       "[250, 300, 450]"
      ]
     },
     "execution_count": 12,
     "metadata": {},
     "output_type": "execute_result"
    }
   ],
   "source": [
    "context_max_len_list"
   ]
  },
  {
   "cell_type": "code",
   "execution_count": 8,
   "metadata": {},
   "outputs": [
    {
     "data": {
      "text/plain": [
       "['Former world champion Wendy Houvenaghel has accused British Cycling of sexism and discrimination.']"
      ]
     },
     "execution_count": 8,
     "metadata": {},
     "output_type": "execute_result"
    }
   ],
   "source": [
    "generator.eval()\n",
    "with torch.no_grad():\n",
    "    bb=generator.generate(input_ids=b_input_ids[:,:1024],\n",
    "                attention_mask=b_input_mask[:,:1024],\n",
    "                context_boundary=(390,700),\n",
    "                eos_token_id=test_dataset.tokenizer.eos_token_id,\n",
    "        max_length=149,\n",
    "        early_stopping=True,\n",
    "        use_cache=True,\n",
    "        num_beams=8,\n",
    "        )\n",
    "test_dataset.tokenizer.batch_decode(bb,clean_up_tokenization_spaces=True,skip_special_tokens=True)"
   ]
  },
  {
   "cell_type": "code",
   "execution_count": 8,
   "metadata": {},
   "outputs": [
    {
     "data": {
      "text/plain": [
       "'A \"medal at any cost\" approach created a \"culture of fear\" at British Cycling, says former rider Wendy Houvenaghel.'"
      ]
     },
     "execution_count": 8,
     "metadata": {},
     "output_type": "execute_result"
    }
   ],
   "source": [
    "test_dataset.tokenizer.decode(te1.labels,clean_up_tokenization_spaces=True,skip_special_tokens=True)"
   ]
  },
  {
   "cell_type": "code",
   "execution_count": 51,
   "metadata": {},
   "outputs": [
    {
     "data": {
      "text/plain": [
       "torch.Size([1187])"
      ]
     },
     "execution_count": 51,
     "metadata": {},
     "output_type": "execute_result"
    }
   ],
   "source": [
    "te1.input_ids.shape"
   ]
  },
  {
   "cell_type": "code",
   "execution_count": 58,
   "metadata": {},
   "outputs": [
    {
     "name": "stdout",
     "output_type": "stream",
     "text": [
      "Media playback is not supported on this device\n",
      "The Olympic silver medallist accused the organisation of \"ageism\" and having \"zero regard\" for her welfare.\n",
      "She is the latest high-profile cyclist to come forward after Jess Varnish, Nicole Cooke and Emma Pooley criticised the World Class programme.\n",
      "Houvenaghel told the BBC she felt \"vindicated\" by a leaked draft report detailing British Cycling's failures.\n",
      "The report said British Cycling \"sanitised\" its own investigation into claims former technical director Shane Sutton used sexist language towards Varnish, who went public last April about her treatment.\n",
      "British Cycling subsequently admitted it did not pay \"sufficient care and attention\" to the wellbeing of staff and athletes at the expense of winning medals, an approach Houvenaghel attested to in her BBC interview.\n",
      "Both Sutton and predecessor Sir Dave Brailsford have now left British Cycling.\n",
      "Houvenaghel, 42, spoke to BBC Sport during its State of Sport week, which on Thursday examines the issue of athlete welfare versus a win-at-all-costs culture.\n",
      "A government-commissioned review, headed by 11-time Paralympic champion Baroness Grey-Thompson, into safety and wellbeing in British sport, is due to be published imminently.\n",
      "It is expected to recommend significant reforms designed to improve the way athletes are treated by governing bodies.\n",
      "Houvenaghel claimed:\n",
      "British Cycling said it \"has acknowledged and takes very seriously previous cultural and governance failings in the World Class Programme\".\n",
      "It said it has accepted the draft report's findings and already put into a place a 39-point action plan to \"systematically address the cultural and behavioural shortcomings\".\n",
      "The statement added: \"Our new chair Jonathan Browning has apologised for instances where we have fallen short in our commitment to athlete welfare and has offered to meet with anyone who can help improve British Cycling.\"\n",
      "Who else has spoken out?\n",
      "Houvenaghel won silver in the individual pursuit at the Beijing Olympics in 2008, and gold in the World Championship team pursuit in 2008, 2009 and 2011.\n",
      "She retired in 2014, aged 39, after withdrawing from the Commonwealth Games in Glasgow with a back injury.\n",
      "Houvenaghel was critical of both Sutton and her team-mates in the aftermath of the London 2012 Olympics, where she was left out of all three team pursuit races as Dani King, Laura Trott and Joanna Rowsell-Shand won gold in a world record time.\n",
      "Speaking to BBC Sport this week, the Northern Irish rider said that experience was \"very traumatic\" and she felt \"torment\" at having \"no explanation\" for her last-minute omission.\n",
      "At the time, Brailsford, then performance director, defended the selection saying they had to \"take the personal element out of it, and look at the data and be professional\".\n",
      "He added: \"I think when a team steps up and makes six world records on the trot and a gold medal, then I don't think you can argue with that.\"\n",
      "British Cycling reiterated that point on Thursday, adding it was \"proud to support Wendy in what was a wonderfully successful cycling career\" and she was \"part of a pioneering generation of riders who set new standards of excellence\", but was dropped in London 2012 \"based on her performance\".\n",
      "Other elite cyclists, including King and Roswell-Shand have praised the leadership at British Cycling.\n",
      "Asked whether she was simply not good enough for the 2012 team, Houvenaghel replied: \"It was definitely not about performance. I don't think the fastest team on the day were permitted to race.\n",
      "\"There are certain chosen riders on the team who will not have experienced the culture of fear and will not have been on the receiving end of that - the bullying, the harassment, being frozen out of opportunities.\n",
      "\"It was horrid - it was not the training environment I expected. There was no choice. If you rocked the boat, you were out. There was no alternative.\n",
      "\"Medals at any cost, that's how it was whenever I was there, certainly in 2012.\"\n",
      "Houvenaghel said she also witnessed the sexism that has been highlighted by other female riders, and also claims she was discriminated against because of her age.\n",
      "\"I can certainly relate to the bullying,\" she said. \"For me personally, I felt it was more ageism - being a little bit older than my team-mates, it didn't seem to be something that the staff necessarily wanted for our team in 2012.\n",
      "\"They didn't care about what happened to me afterwards. I never heard another thing from them.\n",
      "\"After six years of constantly medalling at World Cups, World Championships, nationals, both on the track and on the road, they discarded me in a very undignified way from the team, which I don't feel was right.\"\n",
      "Fourteen-time Paralympic gold medallist Dame Sarah Storey told BBC Sport that elite level sport in Britain is \"cut-throat\" but there are \"no excuses for crossing that line\" into bullying.\n",
      "Asked about the balance between winning and athlete welfare, the 39-year-old replied: \"It's a really difficult question because you have to be a human being, you have to allow for people to make mistakes. But the currency is race wins, the currency is gold medals.\n",
      "\"It's not an excuse but you have to have a thick skin in sport, you have to be able to take the rough with the smooth because of the racing that you go through.\n",
      "\"But there are no excuses for crossing that line, and if those lines have been crossed they will be found out and they'll be dealt with.\"\n"
     ]
    }
   ],
   "source": [
    "print(test_dataset.tokenizer.decode(te1.input_ids,clean_up_tokenization_spaces=True,skip_special_tokens=True))"
   ]
  },
  {
   "cell_type": "code",
   "execution_count": 22,
   "metadata": {},
   "outputs": [],
   "source": [
    "generator.model.context_max_len= 800\n",
    "generator.model.encoder.context_max_len= 800"
   ]
  },
  {
   "cell_type": "code",
   "execution_count": 23,
   "metadata": {},
   "outputs": [],
   "source": [
    "from torch.utils.data import DataLoader,SequentialSampler\n",
    "import tqdm\n",
    "def generate():\n",
    "    test_data_loader = DataLoader(test_dataset,batch_size=12,\n",
    "                                sampler= SequentialSampler(test_dataset),\n",
    "                                collate_fn= SmartCollator(\n",
    "                pad_token_id=train_dataset.tokenizer.pad_token_id,\n",
    "                max_len=configs.max_seq_len,\n",
    "                context_max_len=context_max_len,\n",
    "                context_sampling_bounds=context_sampling_bounds,\n",
    "            \n",
    "            )\n",
    "                                )\n",
    "\n",
    "    output_summaries =[]\n",
    "    for batch in tqdm.tqdm(test_data_loader):\n",
    "        b_input_ids = batch['input_ids'].to(device)\n",
    "        b_input_mask = batch['attention_mask'].to(device)\n",
    "        \n",
    "        seq_len = b_input_ids.shape[1]\n",
    "\n",
    "        context_boundary = compute_context_boundary(seq_len,\n",
    "                                                    context_max_len=110)\n",
    "        \n",
    "        boundary_mask =  batch.get(\"boundary\",)\n",
    "        bb=generator.generate(input_ids=b_input_ids,\n",
    "                attention_mask=b_input_mask,\n",
    "                #context_boundary=boundary_mask,\n",
    "                num_beams=10,\n",
    "                do_sample=False,\n",
    "                num_return_sequences=1,\n",
    "                max_length=140)\n",
    "        sentences = test_dataset.tokenizer.batch_decode(bb,clean_up_tokenization_spaces=True,skip_special_tokens=True)\n",
    "        output_summaries+=sentences\n",
    "    return output_summaries"
   ]
  },
  {
   "cell_type": "code",
   "execution_count": 25,
   "metadata": {},
   "outputs": [
    {
     "name": "stderr",
     "output_type": "stream",
     "text": [
      "100%|██████████| 945/945 [10:11<00:00,  1.54it/s]\n"
     ]
    }
   ],
   "source": [
    "base_output8 = generate()"
   ]
  },
  {
   "cell_type": "code",
   "execution_count": 10,
   "metadata": {},
   "outputs": [],
   "source": [
    "#os.makedirs(\"outputs/multi_context/\")"
   ]
  },
  {
   "cell_type": "code",
   "execution_count": 26,
   "metadata": {},
   "outputs": [
    {
     "name": "stdout",
     "output_type": "stream",
     "text": [
      "Done\n"
     ]
    }
   ],
   "source": [
    "#context_enforcement/data/common.py\n",
    "from context_enforcement.data.common import write_to_file\n",
    "write_to_file(base_output8[:len(test_dataset)], \"outputs/multi_context/best_base_new8\")"
   ]
  },
  {
   "cell_type": "code",
   "execution_count": 20,
   "metadata": {},
   "outputs": [],
   "source": [
    "targets = [tokenizer.decode(c.labels,clean_up_tokenization_spaces=True,skip_special_tokens=True) for c in test_dataset]"
   ]
  },
  {
   "cell_type": "code",
   "execution_count": 31,
   "metadata": {},
   "outputs": [
    {
     "data": {
      "text/plain": [
       "('Musician Koffi Olomide has been taken into custody in the Democratic Republic of Congo, days after he was deported from Kenya for allegedly kicking one of his dancers at an airport in Nairobi.',\n",
       " \"Uganda's Koffi Olomide has been taken into police custody in the capital, Kinshasa, after being arrested on suspicion of assault, the BBC understands.\",\n",
       " \"Uganda's Koffi Olomide has been taken into police custody in the capital, Kinshasa, after a video emerged showing him punching a woman in the face.\",\n",
       " 'Singer-songwriter Koffi Olomide has been arrested in the Democratic Republic of Congo on suspicion of assault after a video emerged showing him punching a woman in the face.')"
      ]
     },
     "execution_count": 31,
     "metadata": {},
     "output_type": "execute_result"
    }
   ],
   "source": [
    "targets[690],base_output[690],base_output_8[690],base_output_45[690]#output_summaries2[690],output_summaries[690],output_summaries6[690],output_summaries8[690]"
   ]
  },
  {
   "cell_type": "code",
   "execution_count": 13,
   "metadata": {},
   "outputs": [
    {
     "name": "stderr",
     "output_type": "stream",
     "text": [
      "[nltk_data] Downloading package wordnet to /home/nlplab/nltk_data...\n",
      "[nltk_data]   Package wordnet is already up-to-date!\n",
      "[nltk_data] Downloading package punkt to /home/nlplab/nltk_data...\n",
      "[nltk_data]   Package punkt is already up-to-date!\n",
      "[nltk_data] Downloading package omw-1.4 to /home/nlplab/nltk_data...\n",
      "[nltk_data]   Package omw-1.4 is already up-to-date!\n"
     ]
    }
   ],
   "source": [
    "import evaluate\n",
    "metrics = evaluate.combine(['bleu','meteor',\"rouge\"])\n"
   ]
  },
  {
   "cell_type": "code",
   "execution_count": 27,
   "metadata": {},
   "outputs": [
    {
     "data": {
      "text/plain": [
       "{'bleu': 0.12420563480222273,\n",
       " 'precisions': [0.4381499894596304,\n",
       "  0.17908874941070982,\n",
       "  0.09682579940300837,\n",
       "  0.05619688787468894],\n",
       " 'brevity_penalty': 0.864057575751863,\n",
       " 'length_ratio': 0.8725121280166765,\n",
       " 'translation_length': 227696,\n",
       " 'reference_length': 260966,\n",
       " 'meteor': 0.35420455825818364,\n",
       " 'rouge1': 0.4026762188767841,\n",
       " 'rouge2': 0.18481796867562256,\n",
       " 'rougeL': 0.3305624212280963,\n",
       " 'rougeLsum': 0.3305498661301927}"
      ]
     },
     "execution_count": 27,
     "metadata": {},
     "output_type": "execute_result"
    }
   ],
   "source": [
    "scores = metrics.compute(predictions=base_output8,references=targets)\n",
    "scores"
   ]
  },
  {
   "cell_type": "code",
   "execution_count": 33,
   "metadata": {},
   "outputs": [
    {
     "data": {
      "text/plain": [
       "{'bleu': 0.12389472009506917,\n",
       " 'precisions': [0.42998954172167264,\n",
       "  0.17316442466234785,\n",
       "  0.09333459931636916,\n",
       "  0.05447402486628601],\n",
       " 'brevity_penalty': 0.8882099297546506,\n",
       " 'length_ratio': 0.894016845106259,\n",
       " 'translation_length': 233308,\n",
       " 'reference_length': 260966,\n",
       " 'meteor': 0.3536737677235309,\n",
       " 'rouge1': 0.4004153499833297,\n",
       " 'rouge2': 0.1814263753204633,\n",
       " 'rougeL': 0.32731796745661057,\n",
       " 'rougeLsum': 0.3273520194107481}"
      ]
     },
     "execution_count": 33,
     "metadata": {},
     "output_type": "execute_result"
    }
   ],
   "source": [
    "scores45 = metrics.compute(predictions=base_output_45,references=targets)\n",
    "scores45"
   ]
  },
  {
   "cell_type": "code",
   "execution_count": 36,
   "metadata": {},
   "outputs": [
    {
     "data": {
      "text/plain": [
       "{'bleu': 0.1242693218959997,\n",
       " 'precisions': [0.4397112710255618,\n",
       "  0.17984347696769157,\n",
       "  0.09751670411397062,\n",
       "  0.05682880711450953],\n",
       " 'brevity_penalty': 0.8588878671603885,\n",
       " 'length_ratio': 0.8679674746901895,\n",
       " 'translation_length': 226510,\n",
       " 'reference_length': 260966,\n",
       " 'meteor': 0.3532861459937222,\n",
       " 'rouge1': 0.4033676736623957,\n",
       " 'rouge2': 0.18549005001850066,\n",
       " 'rougeL': 0.3313132654462809,\n",
       " 'rougeLsum': 0.3313118204210047}"
      ]
     },
     "execution_count": 36,
     "metadata": {},
     "output_type": "execute_result"
    }
   ],
   "source": [
    "scores8"
   ]
  },
  {
   "cell_type": "code",
   "execution_count": 17,
   "metadata": {},
   "outputs": [
    {
     "data": {
      "text/plain": [
       "{'bleu': 0.12215108883184916,\n",
       " 'precisions': [0.42916968255609556,\n",
       "  0.17216560221044527,\n",
       "  0.0922525258312802,\n",
       "  0.0537097051014124],\n",
       " 'brevity_penalty': 0.8830712157727976,\n",
       " 'length_ratio': 0.8894032172773465,\n",
       " 'translation_length': 232104,\n",
       " 'reference_length': 260966,\n",
       " 'meteor': 0.35137424074129014,\n",
       " 'rouge1': 0.398632967632497,\n",
       " 'rouge2': 0.1799538886903405,\n",
       " 'rougeL': 0.32609557084990337,\n",
       " 'rougeLsum': 0.32622241066447516}"
      ]
     },
     "execution_count": 17,
     "metadata": {},
     "output_type": "execute_result"
    }
   ],
   "source": [
    "scores"
   ]
  },
  {
   "cell_type": "code",
   "execution_count": 24,
   "metadata": {},
   "outputs": [
    {
     "data": {
      "text/plain": [
       "{'bleu': 0.12300035067772054,\n",
       " 'precisions': [0.4394282548476454,\n",
       "  0.1790089177800281,\n",
       "  0.09666579620313663,\n",
       "  0.056324136455435936],\n",
       " 'brevity_penalty': 0.8550152182505472,\n",
       " 'length_ratio': 0.8645762283209307,\n",
       " 'translation_length': 225625,\n",
       " 'reference_length': 260966,\n",
       " 'meteor': 0.35146299353791816,\n",
       " 'rouge1': 0.4017681486403819,\n",
       " 'rouge2': 0.18375560820687226,\n",
       " 'rougeL': 0.32963068346151203,\n",
       " 'rougeLsum': 0.3296792225053877}"
      ]
     },
     "execution_count": 24,
     "metadata": {},
     "output_type": "execute_result"
    }
   ],
   "source": [
    "scores4"
   ]
  },
  {
   "cell_type": "code",
   "execution_count": 18,
   "metadata": {},
   "outputs": [
    {
     "data": {
      "text/plain": [
       "{'bleu': 0.12202486703008819,\n",
       " 'precisions': [0.43851006174759005,\n",
       "  0.17777018935708405,\n",
       "  0.09596328825046187,\n",
       "  0.05604684262301944],\n",
       " 'brevity_penalty': 0.8527557381282802,\n",
       " 'length_ratio': 0.8626027911681982,\n",
       " 'translation_length': 225110,\n",
       " 'reference_length': 260966,\n",
       " 'meteor': 0.3498951876777049,\n",
       " 'rouge1': 0.40069971264338244,\n",
       " 'rouge2': 0.18265325890345102,\n",
       " 'rougeL': 0.3290151413411355,\n",
       " 'rougeLsum': 0.3290728012119742}"
      ]
     },
     "execution_count": 18,
     "metadata": {},
     "output_type": "execute_result"
    }
   ],
   "source": [
    "scores5"
   ]
  }
 ],
 "metadata": {
  "kernelspec": {
   "display_name": "development",
   "language": "python",
   "name": "python3"
  },
  "language_info": {
   "codemirror_mode": {
    "name": "ipython",
    "version": 3
   },
   "file_extension": ".py",
   "mimetype": "text/x-python",
   "name": "python",
   "nbconvert_exporter": "python",
   "pygments_lexer": "ipython3",
   "version": "3.9.13"
  },
  "orig_nbformat": 4
 },
 "nbformat": 4,
 "nbformat_minor": 2
}
